{
  "cells": [
    {
      "cell_type": "markdown",
      "metadata": {
        "id": "view-in-github",
        "colab_type": "text"
      },
      "source": [
        "<a href=\"https://colab.research.google.com/github/ramdhona/be_simple_lms/blob/main/Python2_op_ifelse_iterasi_list_array.ipynb\" target=\"_parent\"><img src=\"https://colab.research.google.com/assets/colab-badge.svg\" alt=\"Open In Colab\"/></a>"
      ]
    },
    {
      "cell_type": "markdown",
      "metadata": {
        "id": "WZbrH1lnB4p2"
      },
      "source": [
        "# Python Basic 2\n",
        "Boolean values, conditional execution, loops, lists and list processing, logical and bitwise operationsExternal tool\n",
        "\n",
        "Referensi Tambahan:\n",
        "- https://docs.python.org/3.8/\n",
        "- https://docs.python.org/id/3.8/tutorial/\n",
        "\n",
        "\n",
        "## Materi\n",
        "\n",
        "- Operator relasional;\n",
        "- Operator aritmatika;\n",
        "- Struktur pemilihan if-elif-else;\n",
        "- Struktur perulangan while dan for;\n",
        "- Statement loncat;\n",
        "- Operasi logika dan bitwise;\n",
        "- Lists dan Array."
      ]
    },
    {
      "cell_type": "markdown",
      "metadata": {
        "id": "5OYvNAV1B4p5"
      },
      "source": [
        "#### Mutable dan Immutable\n",
        "Mutable : List, Dictionary\n",
        "\n",
        "Immutable : String, Bilangan dan Tuple"
      ]
    },
    {
      "cell_type": "code",
      "execution_count": 1,
      "metadata": {
        "colab": {
          "base_uri": "https://localhost:8080/"
        },
        "id": "CPB1hta3B4p5",
        "outputId": "ccffa518-71b6-4e31-8134-b3ee8553f1ad"
      },
      "outputs": [
        {
          "output_type": "stream",
          "name": "stdout",
          "text": [
            "20\n",
            "10751464\n"
          ]
        }
      ],
      "source": [
        "a=20\n",
        "print(a)\n",
        "print(id(a))"
      ]
    },
    {
      "cell_type": "code",
      "execution_count": 2,
      "metadata": {
        "colab": {
          "base_uri": "https://localhost:8080/"
        },
        "id": "HA1DTzCFB4p6",
        "outputId": "a84a5625-1108-4437-c76c-9a145afd94a5"
      },
      "outputs": [
        {
          "output_type": "stream",
          "name": "stdout",
          "text": [
            "30\n",
            "10751784\n"
          ]
        }
      ],
      "source": [
        "a=30\n",
        "print(a)\n",
        "print(id(a))"
      ]
    },
    {
      "cell_type": "code",
      "execution_count": 3,
      "metadata": {
        "colab": {
          "base_uri": "https://localhost:8080/"
        },
        "id": "9VriMWxmB4p7",
        "outputId": "8f15d201-c9ed-4a94-f3ee-76ebd646e6bc"
      },
      "outputs": [
        {
          "output_type": "stream",
          "name": "stdout",
          "text": [
            "[1, 2, 3, 4]\n",
            "<class 'list'>\n",
            "133833983013568\n"
          ]
        }
      ],
      "source": [
        "a=[1,2,3,4]\n",
        "print(a)\n",
        "print(type(a))\n",
        "print(id(a))"
      ]
    },
    {
      "cell_type": "code",
      "execution_count": 4,
      "metadata": {
        "colab": {
          "base_uri": "https://localhost:8080/"
        },
        "id": "hcsaPRv4B4p7",
        "outputId": "75663077-62d1-425d-b3d0-25cd71ca67b2"
      },
      "outputs": [
        {
          "output_type": "stream",
          "name": "stdout",
          "text": [
            "[0, 2, 3, 4]\n",
            "133833983013568\n"
          ]
        }
      ],
      "source": [
        "a[0]=0\n",
        "print(a)\n",
        "print(id(a))"
      ]
    },
    {
      "cell_type": "markdown",
      "metadata": {
        "id": "e8L9X6VJB4p7"
      },
      "source": [
        "## Operator Relasional\n",
        "Operator relasional adalah operator yang digunakan untuk membandingkan dua buah nilai. Hasil yang akan diperoleh dari operasi perbandingan ini adalah logika (bertipe bool), yaitu True (benar) atau False (salah).\n",
        "\n",
        "![operator%20relasional.png](attachment:operator%20relasional.png)\n",
        "\n",
        "### Prioritas Operator\n",
        "| Prioritas| Operator |        |\n",
        "|----------|----------|--------|\n",
        "| 1        | +, -     | unary  |\n",
        "| 2        | **       |        |\n",
        "| 3        | *,/,//,% |        |\n",
        "| 4        | +, -     | binary |"
      ]
    },
    {
      "cell_type": "markdown",
      "metadata": {
        "id": "rQavJhhhB4p8"
      },
      "source": [
        "## Latihan: Questions and answers\n",
        "\n",
        "Gunakan operator relasional untuk mendeteksi nilai integer < 100 atau >= 100\n",
        "\n",
        "#### Test Data\n",
        "\n",
        "Sample input: 55\n",
        "\n",
        "`Expected output: False`\n",
        "\n",
        "Sample input: 99\n",
        "\n",
        "`Expected output: False`\n",
        "\n",
        "Sample input: 100\n",
        "\n",
        "`Expected output: True`\n",
        "\n",
        "Sample input: 101\n",
        "\n",
        "`Expected output: True`\n",
        "\n",
        "Sample input: -5\n",
        "\n",
        "`Expected output: False`\n",
        "\n",
        "Sample input: +123\n",
        "\n",
        "`Expected output: True`"
      ]
    },
    {
      "cell_type": "code",
      "execution_count": 5,
      "metadata": {
        "colab": {
          "base_uri": "https://localhost:8080/"
        },
        "id": "ptr-NBvcB4p8",
        "outputId": "73aa0641-7c74-4149-92c3-8d6ac9e917c4"
      },
      "outputs": [
        {
          "output_type": "stream",
          "name": "stdout",
          "text": [
            "Sample input: 101\n",
            "Expected output:  True\n"
          ]
        }
      ],
      "source": [
        "a=int(input(\"Sample input: \"))\n",
        "print(\"Expected output: \", a>=100)"
      ]
    },
    {
      "cell_type": "markdown",
      "metadata": {
        "id": "QJEEfIfeB4p9"
      },
      "source": [
        "# Operator Aritmatika\n",
        "\n",
        "Operator aritmatika adalah operator yang digunakan untuk melakukan perhitungan terhadap data numerik. Berikut merupakan operator aritmatika yang digunakan dalam python :\n",
        "\n",
        "![operator%20aritmatika.JPG](attachment:operator%20aritmatika.JPG)"
      ]
    },
    {
      "cell_type": "markdown",
      "metadata": {
        "id": "pUI0vNcjB4p9"
      },
      "source": [
        "</b> Prioritas operator </b>\n",
        "Setiap operator aritmatika memiliki prioritas yang berbeda. Sebagai contoh :\n",
        "\n",
        "</b> 3+5*7 </b>\n",
        "Seperti yang diketahui, operator perkalian (*) memiliki prioritas yang lebih tinggi dibandingkan dengan operator penjumlahan (+) sehingga operasi dapat dituliskan sebagai berikut (3+(5*7)).\n",
        "\n",
        "Untuk lebih jelasnya, tabel berikut memperlihatkan urutan prioritas dari operator aritmatika :\n",
        "![prioritas.JPG](attachment:prioritas.JPG)"
      ]
    },
    {
      "cell_type": "markdown",
      "metadata": {
        "id": "hzk3eVkqB4p9"
      },
      "source": [
        "Berikut merupakan mindmap dari operasi aritmatika :\n",
        "\n",
        "![mindmad%20aritmatika.JPG](attachment:mindmad%20aritmatika.JPG)\n",
        "\n",
        "Perhatikan contoh dibawah :\n",
        "\n",
        "x = 5 + 2 * 3 / (2 - 3) ** 2\n",
        "berapa nilai x?\n"
      ]
    },
    {
      "cell_type": "code",
      "execution_count": 6,
      "metadata": {
        "colab": {
          "base_uri": "https://localhost:8080/"
        },
        "id": "6I-wptWVB4p9",
        "outputId": "d7077eb8-1122-41fc-ddef-bd9f98fd610a"
      },
      "outputs": [
        {
          "output_type": "stream",
          "name": "stdout",
          "text": [
            "17.0\n"
          ]
        }
      ],
      "source": [
        "x = 5 + 4 * 3 / (2 - 3) ** 2\n",
        "print(x)"
      ]
    },
    {
      "cell_type": "markdown",
      "metadata": {
        "id": "TMg3d7sPB4p9"
      },
      "source": [
        "## Struktur Pemilihan\n",
        "\n",
        "Berbeda dengan bahasa pemrograman lainnya, Python hanya memiliki satu statement untuk melakukan proses pemilihan, yaitu dengan menggunakan if. Untuk mempermudah pembahasan tentang statement if, pembahasan akan dibagi menjadi tiga kelompok :\n",
        "\n",
        " - Statement if untuk satu kasus\n",
        " - Statement if untuk dua kasus\n",
        " - Statement if untuk tiga kasus"
      ]
    },
    {
      "cell_type": "markdown",
      "metadata": {
        "id": "j0ncBoJ4B4p9"
      },
      "source": [
        "### 1. Statement if untuk satu kasus\n",
        "\n",
        "Bentuk umum penggunaan perintah if untuk satu kasus dalam Python adalah :\n",
        "\n",
        "```python\n",
        "if kondisi:\n",
        "    statement1\n",
        "    statement2\n",
        "    ...\n",
        "    \n",
        "```\n",
        "Pada bentuk diatas, statement1, statement2 dan seterusnya hanya akan dieksekusi jika kondisi yang didefinisikan dalam perintah If terpenuhi (bernilai True). Jika kondisi bernilai False, statement tersebut akan diabaikan oleh program.\n",
        "\n",
        "Perhatikan contoh berikut :"
      ]
    },
    {
      "cell_type": "code",
      "execution_count": 7,
      "metadata": {
        "id": "fjfTJN99B4p-"
      },
      "outputs": [],
      "source": [
        "a = 6\n",
        "b = 5\n",
        "\n",
        "if a==b:\n",
        "    print(\"oke\")\n",
        "    print(\"berhasil\")\n",
        "    print(\"Gagal\")"
      ]
    },
    {
      "cell_type": "markdown",
      "metadata": {
        "id": "-Dzwd94fB4p-"
      },
      "source": [
        "### 2. Statement if untuk dua kasus\n",
        "\n",
        "Untuk pemilihan yang mengandung dua kasus, bentuk umum yang digunakan adalah :\n",
        "\n",
        "```python\n",
        "if kondisi :\n",
        "    statement1\n",
        "    statement2\n",
        "    ...\n",
        "else\n",
        "    statement_alternatif1\n",
        "    statement_alternatif2\n",
        "    ...\n",
        "```\n",
        "\n",
        "Pada bentuk ini, jika kondisi bernilai True makan statement selanjutnya yang akan dieksekusi oleh program adalah statement1, stetement 2 dan seterusnya. Tapi jika kondisi bernilai False, maka program akan mengeksekusi statement yang berada pada bagian else, yaitu statement_alternatif1, statement_alternatif2 dan seterusnya."
      ]
    },
    {
      "cell_type": "code",
      "execution_count": 8,
      "metadata": {
        "colab": {
          "base_uri": "https://localhost:8080/"
        },
        "id": "chWG4fCCB4p-",
        "outputId": "f22ddc50-6bf0-4b6b-ab51-d897928a73a3"
      },
      "outputs": [
        {
          "output_type": "stream",
          "name": "stdout",
          "text": [
            "Gagal\n"
          ]
        }
      ],
      "source": [
        "a = 6\n",
        "b = 5\n",
        "\n",
        "if a==b:\n",
        "    print(\"oke\")\n",
        "    print(\"berhasil\")\n",
        "else:\n",
        "    print(\"Gagal\")"
      ]
    },
    {
      "cell_type": "markdown",
      "metadata": {
        "id": "CU8s_kZxB4p-"
      },
      "source": [
        "#### Latihan 1\n",
        "Memasukan bilangan bulat dan mendeteksi bilangan tersebut genap / ganjil."
      ]
    },
    {
      "cell_type": "code",
      "execution_count": 9,
      "metadata": {
        "colab": {
          "base_uri": "https://localhost:8080/"
        },
        "id": "e1b8-Uz3B4p_",
        "outputId": "62638fc6-45a9-46f5-c443-c13545e35bf1"
      },
      "outputs": [
        {
          "output_type": "stream",
          "name": "stdout",
          "text": [
            "Masukan bilangan bulat: 5\n",
            "ganjil\n"
          ]
        }
      ],
      "source": [
        "bil = int(input(\"Masukan bilangan bulat: \"))\n",
        "\n",
        "if(bil%2 == 0):\n",
        "    print(\"genap\")\n",
        "else:\n",
        "    print(\"ganjil\")"
      ]
    },
    {
      "cell_type": "markdown",
      "metadata": {
        "id": "4iL7DUS6B4p_"
      },
      "source": [
        "### 3. Statement if untuk Tiga kasus atau lebih\n",
        "\n",
        "Struktur pemilihan jenis ini merupakan bentuk yang paling kompleks jika dibandingkan dengan kedua jenis yang sudah di bahas diatas. Dalam struktur ini, ada beberapa kondisi yang harus diperiksa oleh program. Bentuk umum penggunaan perintah if untuk tiga kasus atau lebih adalah :\n",
        "\n",
        "```python\n",
        "if kondisi1:\n",
        "    statement1a\n",
        "    statement1b\n",
        "    ...\n",
        "elif kondisi2:\n",
        "    statement2a\n",
        "    statement2b\n",
        "    ...\n",
        "else:\n",
        "    statement_alternatif1\n",
        "    statement_alternatif2\n",
        "    ...\n",
        "```\n",
        "Perhatikan contoh dibawah ini :"
      ]
    },
    {
      "cell_type": "markdown",
      "metadata": {
        "id": "jMVweAf4B4p_"
      },
      "source": [
        "#### Latihan 2\n",
        "\n",
        "![kuadran.jpg](attachment:kuadran.jpg)\n",
        "\n",
        "Perhatikan gambar diatas. Penetuan kuadran dari suatu titik dilakukan dengan cara :\n",
        "\n",
        " - Jika x>0 dan y>0 maka titik akan berada pada Kuadran I\n",
        " - Jika x<0 dan y>0 maka titik akan berapa pada Kuadran II\n",
        " - Jika x<0 dan y<0 maka titik akan berada pada Kuadran III\n",
        " - JIka x>0 dan y<0 maka titik akan berada pada Kuadran IV\n",
        " - Jika keepat kondisi ini tidak dapat dipenuhi, maka titik tidak termasuk pada kuadran manapun\n",
        "\n",
        "Tuliskan kondisi tersebut dalam bahasa Python."
      ]
    },
    {
      "cell_type": "code",
      "execution_count": 10,
      "metadata": {
        "colab": {
          "base_uri": "https://localhost:8080/"
        },
        "id": "mNDUj7PNB4p_",
        "outputId": "28ba2d97-7f4e-4a23-fd9e-5f3e33aa30d7"
      },
      "outputs": [
        {
          "output_type": "stream",
          "name": "stdout",
          "text": [
            "Masukan nilai koordinat\n",
            "Nilai x: 5\n",
            "Nilai y: 8\n",
            "Koordinat (5,8) berada pada Kuadran I\n"
          ]
        }
      ],
      "source": [
        "print(\"Masukan nilai koordinat\")\n",
        "x = int(input(\"Nilai x: \"))\n",
        "y = int(input(\"Nilai y: \"))\n",
        "\n",
        "if x>0 and y>0:\n",
        "    print(\"Koordinat (\"+ str(x) + \",\"+ str(y) +\") berada pada Kuadran I\" )\n",
        "elif x<0 and y>0:\n",
        "    print(\"Koordinat (\"+ str(x) + \",\"+ str(y) +\") berada pada Kuadran II\" )\n",
        "elif x<0 and y<0:\n",
        "    print(\"Koordinat (\"+ str(x) + \",\"+ str(y) +\") berada pada Kuadran III\" )\n",
        "elif x>0 and y<0:\n",
        "    print(\"Koordinat (\"+ str(x) + \",\"+ str(y) +\") berada pada Kuadran IV\" )\n",
        "else:\n",
        "    pass"
      ]
    },
    {
      "cell_type": "markdown",
      "metadata": {
        "id": "vvZyr4TGB4p_"
      },
      "source": [
        "#### Latihan 3\n",
        "Mencari bilangan terbesar, dari 3 inputan (a, b dan c)"
      ]
    },
    {
      "cell_type": "code",
      "execution_count": 11,
      "metadata": {
        "colab": {
          "base_uri": "https://localhost:8080/"
        },
        "id": "RHZ4Y5utB4p_",
        "outputId": "cca0cbb8-42a5-407a-aa17-a86440c8455f"
      },
      "outputs": [
        {
          "output_type": "stream",
          "name": "stdout",
          "text": [
            "First Number : 56\n",
            "Second Number : 34\n",
            "Third Number : 34\n",
            "The largest number is:  56\n"
          ]
        }
      ],
      "source": [
        "num1 = int(input(\"First Number : \"))\n",
        "num2 = int(input(\"Second Number : \"))\n",
        "num3 = int(input(\"Third Number : \"))\n",
        "\n",
        "#set number1 sebagai yang terbesar\n",
        "largestNum = num1\n",
        "\n",
        "#deteksi apakah num2 > num1\n",
        "if num2 > largestNum:\n",
        "    largestNum = num2\n",
        "\n",
        "#deteksi apakah num3 > num2\n",
        "if num3 > largestNum:\n",
        "    largestNum = num3\n",
        "\n",
        "print(\"The largest number is: \", largestNum)"
      ]
    },
    {
      "cell_type": "markdown",
      "metadata": {
        "id": "PqNHpKiRB4p_"
      },
      "source": [
        "## Latihan\n",
        "Spathiphyllum, atau yang sering disebut dengan 'peace lily' atau tanaman 'white sail merupakan tanaman dalam rumah yang sangat populer yang dapat menjadi filter guna menyaring udara dari racun. Beberapa racun yang dapat di filter adalah benzena, fomaldehyde, dan amonia.\n",
        "\n",
        "Bayangkan bahwa program komputer anda sangat menyukai tanaman. Ketika komputer menerima masukan (input) pada form \"Spathiphyllum\", maka komputer akan merespon dengan \"Spathiphyllum is the best plant ever!\".\n",
        "\n",
        "Tulislah sebuah program dengan Python untuk beberapa kondisi berikut, input adalah sebuah string :\n",
        "\n",
        "- respon komputer :  `\"Yes - Spathiphyllum is the best plant ever!\"` ketika input berupa `\"Spathiphyllum\"` (upper-case)\n",
        "- respon komputer :  `\"No, I want a big Spathiphyllum!\"` ketika input berupa `\"spathiphyllum\"` (lower-case)\n",
        "- respon komputer :  `\"Spathiphyllum! Not [input]!\"` ketika input berupa \"input\"."
      ]
    },
    {
      "cell_type": "code",
      "execution_count": 12,
      "metadata": {
        "colab": {
          "base_uri": "https://localhost:8080/"
        },
        "id": "jFCz5Q7EB4p_",
        "outputId": "34e56e1f-cec4-4334-b02c-4b58d8b3b157"
      },
      "outputs": [
        {
          "output_type": "stream",
          "name": "stdout",
          "text": [
            "Please input a best plant = Spathiphyllum\n",
            "Yes - Spathiphyllum is the best plant ever!\n"
          ]
        }
      ],
      "source": [
        "plant = input(\"Please input a best plant = \")\n",
        "\n",
        "if plant == \"Spathiphyllum\":\n",
        "    print(\"Yes - Spathiphyllum is the best plant ever!\")\n",
        "elif plant == \"spathiphyllum\":\n",
        "    print(\"No, I want a big Spathiphyllum!\")\n",
        "else:\n",
        "    print(\"Spathiphyllum! Not \"+ plant +\"!\")"
      ]
    },
    {
      "cell_type": "markdown",
      "metadata": {
        "id": "j5OsjaVRB4p_"
      },
      "source": [
        "## Latihan\n",
        "\n",
        "\n",
        "Pada suatu masa terdapat sebuah daratan - daratan dengan susu dan madu, yang dihuni oleh masyarakat yang bahagia dan sejahtera. Masyarakat tersebut membayar pajak, sehingga kebahagiaan mereka memiliki batas. Pajak yang paling penting adalah Personal Income Tax atau disebut PIT yang mana harus dibayarkan tiap tahun, dan dievaluasi dengan peraturan sebagai berikut :  \n",
        "\n",
        "- Jika penghasilan tidak lebih besar daripada 85,528 thaler, maka pajak adalah sebesar 18% dari pemasukan dikurangi 556 thaler dan 2 sen (disebut juga tax relief)\n",
        "- Jika penghasilan lebih dari nilai tersebut, maka pajak adalah sebesar 14,839 thaler and 2 cents, ditambah 32% dari selisih penghasilan dengan 85,528 thalers.\n",
        "\n",
        "Tugas anda adalah membuat <b>tax calculator</b>.\n",
        "\n",
        "- Harus menerima satu masukan : penghasilan\n",
        "- Berikutnya, print pajak yang telah dihitung, nilai dibulatkan penuh ke thaler (tanpa sen). Fungsi round() akan membantu anda untuk membulatkan nilai.\n",
        "\n",
        "Catatan : Negara yang bahagia ini tidak pernah mengembalikan uang tersebut ke warganya. Jika perhitungan pajak kurang dari nol, itu berarti warga tidak dikenakan pajak sama sekali (pajak = 0).\n",
        "    \n",
        "Perhatikan syntax dibawah ini, hanya membaca satu input dan output sebagai hasilnya. Lengkapi syntax tersebut dengan sebuah perhitungan yang cerdas.\n",
        "\n",
        "```python\n",
        "income = float(input(\"Enter the annual income: \"))\n",
        "\n",
        "#\n",
        "# Put your code here.\n",
        "#\n",
        "\n",
        "tax = round(tax, 0)\n",
        "print(\"The tax is:\", tax, \"thalers\")\n",
        "```\n",
        "\n",
        "Test your code using the data we've provided.\n",
        "\n",
        "```python\n",
        "Sample input: 10000\n",
        "\n",
        "Expected output: The tax is: 1244.0 thalers\n",
        "        \n",
        "Sample input: 100000\n",
        "\n",
        "Expected output: The tax is: 19470.0 thalers\n",
        "        \n",
        "Sample input: 1000\n",
        "\n",
        "Expected output: The tax is: 0.0 thalers\n",
        "\n",
        "Sample input: -100\n",
        "\n",
        "Expected output: The tax is: 0.0 thalers"
      ]
    },
    {
      "cell_type": "code",
      "execution_count": 13,
      "metadata": {
        "colab": {
          "base_uri": "https://localhost:8080/"
        },
        "id": "qrVIQZCqB4qA",
        "outputId": "1fab8a62-eeef-47d0-803a-314f2cda3e97"
      },
      "outputs": [
        {
          "output_type": "stream",
          "name": "stdout",
          "text": [
            "Enter the annual income: 1234\n",
            "The tax is: 0 thalers\n"
          ]
        }
      ],
      "source": [
        "income = float(input(\"Enter the annual income: \"))\n",
        "tax = 0\n",
        "\n",
        "if income<85528:\n",
        "    tax = 0.18 * income - 556.2\n",
        "else:\n",
        "    tax = 14839 + 0.2 + 0.32 * (income - 85528)\n",
        "\n",
        "tax = round(tax, 0)\n",
        "\n",
        "if tax<0:\n",
        "    tax = 0\n",
        "\n",
        "print(\"The tax is:\", tax, \"thalers\")"
      ]
    },
    {
      "cell_type": "markdown",
      "metadata": {
        "id": "igHIZ1iXB4qA"
      },
      "source": [
        "## Latihan\n",
        "\n",
        "As you surely know, due to some astronomical reasons, years may be leap or common. The former are 366 days long, while the latter are 365 days long.\n",
        "\n",
        "Since the introduction of the Gregorian calendar (in 1582), the following rule is used to determine the kind of year:\n",
        "\n",
        "- if the year number isn't divisible by four, it's a common year;\n",
        "- otherwise, if the year number isn't divisible by 100, it's a leap year;\n",
        "- otherwise, if the year number isn't divisible by 400, it's a common year;\n",
        "- otherwise, it's a leap year.\n",
        "\n",
        "Look at the code in the editor - it only reads a year number, and needs to be completed with the instructions implementing the test we've just described.\n",
        "\n",
        "``` python\n",
        "year = int(input(\"Enter a year: \"))\n",
        "\n",
        "#\n",
        "# Put your code here.\n",
        "#\n",
        "\n",
        "```\n",
        "\n",
        "The code should output one of two possible messages, which are Leap year or Common year, depending on the value entered.\n",
        "\n",
        "It would be good to verify if the entered year falls into the Gregorian era, and output a warning otherwise: Not within the Gregorian calendar period. Tip: use the != and % operators.\n",
        "\n",
        "Test your code using the data we've provided.\n",
        "\n",
        "Sample input: `2000`\n",
        "\n",
        "Expected output: `Leap year`\n",
        "\n",
        "Sample input: `2015`\n",
        "\n",
        "Expected output: `Common year`\n",
        "\n",
        "Sample input: `1999`\n",
        "\n",
        "Expected output: `Common year`\n",
        "\n",
        "Sample input: `1996`\n",
        "\n",
        "Expected output: `Leap year`\n",
        "\n",
        "Sample input: `1580`\n",
        "\n",
        "Expected output: `Not within the Gregorian calendar period`"
      ]
    },
    {
      "cell_type": "code",
      "execution_count": 14,
      "metadata": {
        "colab": {
          "base_uri": "https://localhost:8080/"
        },
        "id": "6q3tDijIB4qA",
        "outputId": "85259cd9-f927-4cce-f508-b32cdb63ad3c"
      },
      "outputs": [
        {
          "output_type": "stream",
          "name": "stdout",
          "text": [
            "Enter a year: 1583\n",
            "common year\n"
          ]
        }
      ],
      "source": [
        "year = int(input(\"Enter a year: \"))\n",
        "\n",
        "if year < 1582:\n",
        "    print(\"Not within the Gregorian calender period\")\n",
        "else :\n",
        "    if year % 4 !=0 :\n",
        "        print(\"common year\")\n",
        "    elif year % 100 !=0:\n",
        "        print (\"leap year\")\n",
        "    elif year % 400 !=0:\n",
        "        print(\"common year\")\n",
        "    else :\n",
        "        print(\"leap year\")"
      ]
    },
    {
      "cell_type": "markdown",
      "metadata": {
        "id": "LDwQZs_pB4qA"
      },
      "source": [
        "#### Latihan-latihan"
      ]
    },
    {
      "cell_type": "markdown",
      "metadata": {
        "id": "1szHfmXGB4qA"
      },
      "source": [
        "Apakah luaran dari syntax berikut :"
      ]
    },
    {
      "cell_type": "code",
      "execution_count": 15,
      "metadata": {
        "colab": {
          "base_uri": "https://localhost:8080/"
        },
        "id": "VINCr3w1B4qA",
        "outputId": "fd8c08d0-5fd8-4001-a84c-662fc3a01038"
      },
      "outputs": [
        {
          "output_type": "stream",
          "name": "stdout",
          "text": [
            "False\n",
            "True\n"
          ]
        }
      ],
      "source": [
        "x = 5\n",
        "y = 10\n",
        "z = 8\n",
        "\n",
        "print(x > y)\n",
        "print(y > z)"
      ]
    },
    {
      "cell_type": "code",
      "execution_count": 16,
      "metadata": {
        "colab": {
          "base_uri": "https://localhost:8080/"
        },
        "id": "eD0YG1JfB4qA",
        "outputId": "5d42cf7a-36e7-40a7-c92c-fe2bc097a7e2"
      },
      "outputs": [
        {
          "output_type": "stream",
          "name": "stdout",
          "text": [
            "False\n",
            "True\n"
          ]
        }
      ],
      "source": [
        "x, y, z = 5, 10, 8\n",
        "\n",
        "print(x > z)\n",
        "print((y - 5) == x)"
      ]
    },
    {
      "cell_type": "code",
      "execution_count": 17,
      "metadata": {
        "colab": {
          "base_uri": "https://localhost:8080/"
        },
        "id": "qbYc7kDCB4qA",
        "outputId": "3073a41c-a9df-44ed-ea0c-d572981d40a7"
      },
      "outputs": [
        {
          "output_type": "stream",
          "name": "stdout",
          "text": [
            "True\n",
            "False\n"
          ]
        }
      ],
      "source": [
        "x, y, z = 5, 10, 8\n",
        "x, y, z = z, y, x\n",
        "\n",
        "print(x > z)\n",
        "print((y - 5) == x)"
      ]
    },
    {
      "cell_type": "code",
      "execution_count": 18,
      "metadata": {
        "colab": {
          "base_uri": "https://localhost:8080/"
        },
        "id": "eXIG72nYB4qA",
        "outputId": "90dd084d-f1e1-4854-b4c2-14f2201de13a"
      },
      "outputs": [
        {
          "output_type": "stream",
          "name": "stdout",
          "text": [
            "True\n",
            "True\n",
            "else\n"
          ]
        }
      ],
      "source": [
        "x = 10\n",
        "\n",
        "if x == 10:\n",
        "    print(x == 10)\n",
        "\n",
        "if x > 5:\n",
        "    print(x > 5)\n",
        "\n",
        "if x < 10:\n",
        "    print(x < 10)\n",
        "else:\n",
        "    print(\"else\")"
      ]
    },
    {
      "cell_type": "code",
      "execution_count": 19,
      "metadata": {
        "colab": {
          "base_uri": "https://localhost:8080/"
        },
        "id": "6CDW-GsLB4qA",
        "outputId": "708ef980-4411-4861-ad5d-df7ded4ad509"
      },
      "outputs": [
        {
          "output_type": "stream",
          "name": "stdout",
          "text": [
            "four\n",
            "five\n"
          ]
        }
      ],
      "source": [
        "x = \"1\"\n",
        "\n",
        "if x == 1:\n",
        "    print(\"one\")\n",
        "elif x == \"1\":\n",
        "    if int(x) > 1:\n",
        "        print(\"two\")\n",
        "    elif int(x) < 1:\n",
        "        print(\"three\")\n",
        "    else:\n",
        "        print(\"four\")\n",
        "\n",
        "if int(x) == 1:\n",
        "    print(\"five\")\n",
        "else:\n",
        "    print(\"six\")"
      ]
    },
    {
      "cell_type": "code",
      "execution_count": 20,
      "metadata": {
        "colab": {
          "base_uri": "https://localhost:8080/"
        },
        "id": "OU0OpP-sB4qA",
        "outputId": "108cf697-33e0-4540-f603-f899112c88c5"
      },
      "outputs": [
        {
          "output_type": "stream",
          "name": "stdout",
          "text": [
            "one\n",
            "three\n"
          ]
        }
      ],
      "source": [
        "x = 1\n",
        "y = 1.0\n",
        "z = \"1\"\n",
        "\n",
        "if x == y:\n",
        "    print(\"one\")\n",
        "if y == z:\n",
        "    print(\"two\")\n",
        "    print(x)\n",
        "    print(y)\n",
        "elif x == y:\n",
        "    print(\"three\")\n",
        "else:\n",
        "    print(\"four\")"
      ]
    },
    {
      "cell_type": "markdown",
      "metadata": {
        "id": "yNHioXLUB4qF"
      },
      "source": [
        "## 3.2 Struktur perulangan\n",
        "\n",
        "Python menyediakan dua statement untuk melakukan proses perulangan yaitu for dan while. Diantara kedua statement ini, secara umum for lebih banyak digunakan daripada while.\n",
        "\n",
        "### 1. Statement while\n",
        "\n",
        "Sama seperti kebanyakan bahasa pemrograman lainnya, Python juga mendukung statement while untuk melakukan perulangan satu atau sekelompok statement. Bentuk umum dari perulangan while adalah sebagai berikut :\n",
        "\n",
        "```python\n",
        "while kondisi:\n",
        "    statement1\n",
        "    statement2\n",
        "    statement1\n",
        "    :\n",
        "    :\n",
        "    statementn\n",
        "```\n",
        "Pada bentuk perulangan diatas, statement1, statement2 dan seterusnya merupakan sekelompok statement yang akan diulang. Statement tersebut akan terus dieksekusi/ diulang selama kondisi bernilai True. Maka diperlukan sebuah statement yang akan bernilai False, agar proses dapat berhenti. Perhatikan syntax berikut :\n"
      ]
    },
    {
      "cell_type": "code",
      "execution_count": 21,
      "metadata": {
        "colab": {
          "base_uri": "https://localhost:8080/"
        },
        "id": "aYmkPyl2B4qF",
        "outputId": "c41118dc-f10d-457f-84c1-af6395293311"
      },
      "outputs": [
        {
          "output_type": "stream",
          "name": "stdout",
          "text": [
            "1\n",
            "9\n",
            "25\n",
            "49\n",
            "81\n"
          ]
        }
      ],
      "source": [
        "i = 1\n",
        "\n",
        "while i<10:\n",
        "    print(i**2)\n",
        "    i = i+2"
      ]
    },
    {
      "cell_type": "markdown",
      "metadata": {
        "id": "aAG2T8fMB4qF"
      },
      "source": [
        "#### Perhatikan contoh program untuk menghitung berapa ganjil dan genap dari rangkaian bilangan :"
      ]
    },
    {
      "cell_type": "code",
      "execution_count": 22,
      "metadata": {
        "id": "8VrlYcViB4qG",
        "colab": {
          "base_uri": "https://localhost:8080/"
        },
        "outputId": "291d43d6-e364-4b0f-da84-1e80250d7b57"
      },
      "outputs": [
        {
          "output_type": "stream",
          "name": "stdout",
          "text": [
            "Enter a number or type 0 to stop: 2\n",
            "Enter a number or type 0 to stop: 0\n",
            "Odd numbers count: 0\n",
            "Even numbers count: 1\n"
          ]
        }
      ],
      "source": [
        "# program that reads a sequence of numbers\n",
        "# and counts how many numbers are even and how many are odd\n",
        "# program terminates when zero is entered\n",
        "\n",
        "oddNumbers = 0\n",
        "evenNumbers = 0\n",
        "\n",
        "# read the first number\n",
        "number = int(input(\"Enter a number or type 0 to stop: \"))\n",
        "\n",
        "# 0 terminates execution\n",
        "while number != 0:\n",
        "    # check if the number is odd\n",
        "    if number % 2 == 1:\n",
        "        # increase the oddNumbers counter\n",
        "        oddNumbers += 1\n",
        "    else:\n",
        "        # increase the evenNumbers counter\n",
        "        evenNumbers += 1\n",
        "    # read the next number\n",
        "    number = int(input(\"Enter a number or type 0 to stop: \"))\n",
        "\n",
        "# print results\n",
        "print(\"Odd numbers count:\", oddNumbers)\n",
        "print(\"Even numbers count:\", evenNumbers)"
      ]
    },
    {
      "cell_type": "markdown",
      "metadata": {
        "id": "T4JPTD3WB4qG"
      },
      "source": [
        "## Latihan\n",
        "A junior magician has picked a secret number. He has hidden it in a variable named `secretNumber`. He wants everyone who run his program to play the Guess the secret number game, and guess what number he has picked for them. Those who don't guess the number will be stuck in an endless loop forever! Unfortunately, he does not know how to complete the code.\n",
        "\n",
        "Your task is to help the magician complete the code in the editor in such a way so that the code:\n",
        "\n",
        "- will ask the user to enter an integer number;\n",
        "- will use a `while` loop;\n",
        "- will check whether the number entered by the user is the same as the number picked by the magician. If the number chosen by the user is different than the magician's secret number, the user should see the message `\"Ha ha! You're stuck in my loop!\"` and be prompted to enter a number again. If the number entered by the user matches the number picked by the magician, the number should be printed to the screen, and the magician should say the following words: `\"Well done, muggle! You are free now.\"`\n",
        "\n",
        "```python\n",
        "secretNumber = 777\n",
        "\n",
        "print(\n",
        "\"\"\"\n",
        "+================================+\n",
        "| Welcome to my game, muggle!    |\n",
        "| Enter an integer number        |\n",
        "| and guess what number I've     |\n",
        "| picked for you.                |\n",
        "| So, what is the secret number? |\n",
        "+================================+\n",
        "\"\"\")\n",
        "```\n",
        "\n",
        "The magician is counting on you! Don't disappoint him."
      ]
    },
    {
      "cell_type": "code",
      "execution_count": 23,
      "metadata": {
        "id": "mdANFr8cB4qG",
        "colab": {
          "base_uri": "https://localhost:8080/"
        },
        "outputId": "8c91b320-6446-404f-b557-c11c28d7966f"
      },
      "outputs": [
        {
          "output_type": "stream",
          "name": "stdout",
          "text": [
            "Input angka rahasia untuk berhenti : 777\n",
            "Well done, Congrats...\n"
          ]
        }
      ],
      "source": [
        "secretNum = 777\n",
        "\n",
        "guessNum = 0\n",
        "\n",
        "while guessNum != secretNum:\n",
        "    guessNum = int(input(\"Input angka rahasia untuk berhenti : \"))\n",
        "    if guessNum != secretNum:\n",
        "        print(\"Perulangan akan terus lanjut...\")\n",
        "\n",
        "print(\"Well done, Congrats...\")"
      ]
    },
    {
      "cell_type": "markdown",
      "metadata": {
        "id": "dhjAfqGlB4qG"
      },
      "source": [
        "### 2. Statement for\n",
        "\n",
        "Selain menggunakan statement while, kita juga dapat melakukan perulangan dengan statement for. Perintah for biasanya digunakan untuk mengambil atau menelusuri data (item) yang terdapat pada tipe-tipe koleksi seperti string, list, tuple, dictionary dan set. Dalam pemrograman, proses penelusuran data dalam sebuah koleksi disebut iterasi. Selain itu, for juga dapat melakukan perulangan normal (sama seperti while), yaitu dengan menggunakan fungsi range(). Dengan menggunakan range(), kita akan dapat dengan mudah melakukan perulangan dari indeks awal ke indeks tertentu.\n",
        "\n",
        "Bentuk perintah for dapat dituliskan sebagai berikut :\n",
        "\n",
        "1. Statement for untuk perintah koleksi\n",
        "```python\n",
        "for indeks tipe koleksi:\n",
        "    statement1\n",
        "    statement2\n",
        "    ...\n",
        "```\n",
        "2. Statement for untuk rentang nilai tertentu\n",
        "```python\n",
        "for indeks in range (nilai_awal, nilai_akhir, step):\n",
        "    statement1\n",
        "    statement2\n",
        "    ...\n",
        "```\n",
        "Perhatikan contoh-contoh dibawah ini :"
      ]
    },
    {
      "cell_type": "code",
      "execution_count": 24,
      "metadata": {
        "id": "-1MsyuTUB4qG",
        "colab": {
          "base_uri": "https://localhost:8080/"
        },
        "outputId": "37535307-f25e-4cb2-f236-1a12ab30b248"
      },
      "outputs": [
        {
          "output_type": "stream",
          "name": "stdout",
          "text": [
            "0\n",
            "1\n",
            "2\n",
            "3\n",
            "4\n"
          ]
        }
      ],
      "source": [
        "for i in range(5):\n",
        "    print(i)"
      ]
    },
    {
      "cell_type": "code",
      "execution_count": 25,
      "metadata": {
        "id": "S5zFoSywB4qG",
        "colab": {
          "base_uri": "https://localhost:8080/"
        },
        "outputId": "45438bf0-7b4d-4552-863a-881a9c951f29"
      },
      "outputs": [
        {
          "output_type": "stream",
          "name": "stdout",
          "text": [
            "2\n",
            "3\n",
            "4\n",
            "5\n",
            "6\n",
            "7\n"
          ]
        }
      ],
      "source": [
        "for i in range(2,8):\n",
        "    print(i)"
      ]
    },
    {
      "cell_type": "code",
      "execution_count": 26,
      "metadata": {
        "id": "JfIhRZxIB4qH",
        "colab": {
          "base_uri": "https://localhost:8080/"
        },
        "outputId": "7b8d6617-8e80-4e4a-bedc-59f10eca4920"
      },
      "outputs": [
        {
          "output_type": "stream",
          "name": "stdout",
          "text": [
            "2\n",
            "5\n",
            "8\n",
            "11\n",
            "14\n",
            "17\n"
          ]
        }
      ],
      "source": [
        "for i in range(2,18,3):\n",
        "    print(i)"
      ]
    },
    {
      "cell_type": "code",
      "execution_count": 27,
      "metadata": {
        "id": "VlZCETXVB4qH",
        "colab": {
          "base_uri": "https://localhost:8080/"
        },
        "outputId": "469f8c18-17d6-4095-bfcd-b1a44c285c5d"
      },
      "outputs": [
        {
          "output_type": "stream",
          "name": "stdout",
          "text": [
            "0\n",
            "1\n",
            "2\n",
            "3\n",
            "4\n",
            "masuk else\n"
          ]
        }
      ],
      "source": [
        "for i in range(5):\n",
        "    print(i)\n",
        "else:\n",
        "    print(\"masuk else\")"
      ]
    },
    {
      "cell_type": "markdown",
      "metadata": {
        "id": "YFm6AAIXB4qH"
      },
      "source": [
        "## Latihan\n",
        "\n",
        "\n",
        "Do you know what Mississippi is? Well, it's the name of one of the states and rivers in the United States. The Mississippi River is about 2,340 miles long, which makes it the second longest river in the United States (the longest being the Missouri River). It's so long that a single drop of water needs 90 days to travel its entire length!\n",
        "\n",
        "The word Mississippi is also used for a slightly different purpose: to count mississippily.\n",
        "\n",
        "If you're not familiar with the phrase, we're here to explain to you what it means: it's used to count seconds.\n",
        "\n",
        "The idea behind it is that adding the word Mississippi to a number when counting seconds aloud makes them sound closer to clock-time, and therefore \"one Mississippi, two Mississippi, three Mississippi\" will take approximately an actual three seconds of time! It's often used by children playing hide-and-seek to make sure the seeker does an honest count.\n",
        "\n",
        "\n",
        "Your task is very simple here: write a program that uses a for loop to \"count mississippily\" to five. Having counted to five, the program should print to the screen the final message \"Ready or not, here I come!\"\n",
        "\n",
        "Use the skeleton we've provided in the editor.\n",
        "\n",
        "```python\n",
        "import time\n",
        "\n",
        "# Write a for loop that counts to five.\n",
        "    # Body of the loop - print the loop iteration number and the word \"Mississippi\".\n",
        "    # Body of the loop - use: time.sleep(1)\n",
        "\n",
        "# Write a print function with the final message.\n",
        "```\n",
        "\n",
        "<strong> EXTRA INFO </strong>\n",
        "\n",
        "Note that the code in the editor contains two elements which may not be fully clear to you at this moment: the import time statement, and the sleep() method. We're going to talk about them soon.\n",
        "\n",
        "For the time being, we'd just like you to know that we've imported the time module and used the sleep() method to suspend the execution of each subsequent print() function inside the for loop for one second, so that the message outputted to the console resembles an actual counting. Don't worry - you'll soon learn more about modules and methods."
      ]
    },
    {
      "cell_type": "code",
      "execution_count": 28,
      "metadata": {
        "id": "jMa3-QiQB4qH",
        "colab": {
          "base_uri": "https://localhost:8080/"
        },
        "outputId": "54566b3e-5a8c-42a5-d380-244bc0e3047e"
      },
      "outputs": [
        {
          "output_type": "stream",
          "name": "stdout",
          "text": [
            "0  Missisipi\n",
            "1  Missisipi\n",
            "2  Missisipi\n",
            "3  Missisipi\n",
            "4  Missisipi\n"
          ]
        }
      ],
      "source": [
        "import time\n",
        "\n",
        "for i in range(5):\n",
        "    print(i,\" Missisipi\")\n",
        "    time.sleep(1)"
      ]
    },
    {
      "cell_type": "markdown",
      "metadata": {
        "id": "6C4g58abB4qH"
      },
      "source": [
        "### 3. Statement Loncat\n",
        "\n",
        "Statement loncat merupakan perintah yang digunakan untuk memindahkan eksekusi program dari satu bagian tertentu ke bagian lain. Python menyediakan tiga statement yaitu : break, continue dan return.\n",
        "\n",
        "#### 3.1 Statement break\n",
        "\n",
        "Statement break digunakan untuk menghentikan secara paksa proses perulangan, meskipun kondisi perulangan sebenarnya masih bernilai True. Perhatikan contoh-contoh berikut ini :"
      ]
    },
    {
      "cell_type": "code",
      "execution_count": 29,
      "metadata": {
        "id": "ypW8iz4mB4qH",
        "colab": {
          "base_uri": "https://localhost:8080/"
        },
        "outputId": "ae7842d3-6ab1-4dae-ef11-8c953516c1d5"
      },
      "outputs": [
        {
          "output_type": "stream",
          "name": "stdout",
          "text": [
            "0 1 2 3 4 5 6 7  masih dalam for\n"
          ]
        }
      ],
      "source": [
        "for i in range (11):\n",
        "    print(i, end=\" \")\n",
        "    if i==7:\n",
        "        print(\" masih dalam for\")\n",
        "        break"
      ]
    },
    {
      "cell_type": "code",
      "execution_count": 30,
      "metadata": {
        "id": "KIkKJvoDB4qH",
        "colab": {
          "base_uri": "https://localhost:8080/"
        },
        "outputId": "ba06c1b6-9f1d-4c4b-b043-88b48ffcc551"
      },
      "outputs": [
        {
          "output_type": "stream",
          "name": "stdout",
          "text": [
            "The break instruction:\n",
            "Inside the loop. 1\n",
            "Inside the loop. 2\n",
            "Outside the loop.\n"
          ]
        }
      ],
      "source": [
        "# break - example\n",
        "\n",
        "print(\"The break instruction:\")\n",
        "for i in range(1, 6):\n",
        "    if i == 3:\n",
        "        break\n",
        "    print(\"Inside the loop.\", i)\n",
        "print(\"Outside the loop.\")"
      ]
    },
    {
      "cell_type": "code",
      "execution_count": 31,
      "metadata": {
        "id": "_7C8cpwIB4qH",
        "colab": {
          "base_uri": "https://localhost:8080/"
        },
        "outputId": "5316b37e-21f4-4735-8015-65945f4db754"
      },
      "outputs": [
        {
          "output_type": "stream",
          "name": "stdout",
          "text": [
            "Enter a number or type -1 to end program: 2\n",
            "Enter a number or type -1 to end program: -2\n",
            "Enter a number or type -1 to end program: -99999999\n",
            "Enter a number or type -1 to end program: -1\n",
            "The largest number is 2\n"
          ]
        }
      ],
      "source": [
        "largestNumber = -99999999\n",
        "counter = 0\n",
        "\n",
        "while True:\n",
        "    number = int(input(\"Enter a number or type -1 to end program: \"))\n",
        "    if number == -1:\n",
        "        break\n",
        "    counter += 1\n",
        "    if number > largestNumber:\n",
        "        largestNumber = number\n",
        "\n",
        "if counter != 0:\n",
        "    print(\"The largest number is\", largestNumber)\n",
        "else:\n",
        "    print(\"You haven't entered any number.\")"
      ]
    },
    {
      "cell_type": "markdown",
      "metadata": {
        "id": "0n7cqI3FB4qH"
      },
      "source": [
        "#### 3.2 Statement continue\n",
        "\n",
        "Statement continue berguna untuk memaksa pengulangan agar memroses indeks selanjutnya meskipun statement didalam blok pengulangan sebenarna belum semua di eksekusi. Dengan kata lain, statement yang ada dibawah statement continue akan diabaikan (tidak dieksekusi)"
      ]
    },
    {
      "cell_type": "code",
      "execution_count": 32,
      "metadata": {
        "id": "Ovu_tFP-B4qI",
        "colab": {
          "base_uri": "https://localhost:8080/"
        },
        "outputId": "d7027435-cdb5-4e3a-c2fc-d148d12d433f"
      },
      "outputs": [
        {
          "output_type": "stream",
          "name": "stdout",
          "text": [
            "1\t3\t5\t7\t9\t"
          ]
        }
      ],
      "source": [
        "for i in range (1,11):\n",
        "    if i % 2 ==0:\n",
        "        continue\n",
        "    print(i, end=\"\\t\")"
      ]
    },
    {
      "cell_type": "code",
      "execution_count": 33,
      "metadata": {
        "id": "KFbY3kEUB4qI",
        "colab": {
          "base_uri": "https://localhost:8080/"
        },
        "outputId": "b5b86b85-42b6-45e3-91f9-c6a099234e46"
      },
      "outputs": [
        {
          "output_type": "stream",
          "name": "stdout",
          "text": [
            "2\n",
            "4\n",
            "6\n",
            "8\n",
            "10\n"
          ]
        }
      ],
      "source": [
        "for i in range (1,11):\n",
        "    if i % 2 ==0:\n",
        "        print(i)"
      ]
    },
    {
      "cell_type": "code",
      "execution_count": 34,
      "metadata": {
        "id": "5E3jKSzKB4qI",
        "colab": {
          "base_uri": "https://localhost:8080/"
        },
        "outputId": "64a09799-0d26-4466-fbed-b9cfb070fc83"
      },
      "outputs": [
        {
          "output_type": "stream",
          "name": "stdout",
          "text": [
            "\n",
            "The continue instruction:\n",
            "Inside the loop. 1\n",
            "Inside the loop. 2\n",
            "Inside the loop. 4\n",
            "Inside the loop. 5\n",
            "Outside the loop.\n"
          ]
        }
      ],
      "source": [
        "# continue - example\n",
        "\n",
        "print(\"\\nThe continue instruction:\")\n",
        "for i in range(1, 6):\n",
        "    if i == 3:\n",
        "        continue\n",
        "    print(\"Inside the loop.\", i)\n",
        "print(\"Outside the loop.\")"
      ]
    },
    {
      "cell_type": "code",
      "execution_count": 35,
      "metadata": {
        "id": "hRHqxJSCB4qI",
        "colab": {
          "base_uri": "https://localhost:8080/"
        },
        "outputId": "91d4f02b-9505-42a7-c043-d76e062b4c93"
      },
      "outputs": [
        {
          "output_type": "stream",
          "name": "stdout",
          "text": [
            "Enter a number or type -1 to end program: -1\n",
            "You haven't entered any number.\n"
          ]
        }
      ],
      "source": [
        "largestNumber = -99999999\n",
        "counter = 0\n",
        "\n",
        "number = int(input(\"Enter a number or type -1 to end program: \"))\n",
        "\n",
        "while number != -1:\n",
        "    if number == -1:\n",
        "        continue\n",
        "    counter += 1\n",
        "\n",
        "    if number > largestNumber:\n",
        "        largestNumber = number\n",
        "    number = int(input(\"Enter a number or type -1 to end program: \"))\n",
        "\n",
        "if counter:\n",
        "    print(\"The largest number is\", largestNumber)\n",
        "else:\n",
        "    print(\"You haven't entered any number.\")"
      ]
    },
    {
      "cell_type": "markdown",
      "metadata": {
        "id": "vUB8bYFdB4qI"
      },
      "source": [
        "## Latihan\n",
        "\n",
        "The `break` statement is used to exit/terminate a loop.\n",
        "\n",
        "Design a program that uses a `while` loop and continuously asks the user to enter a word unless the user enters `\"chupacabra\"` as the secret exit word, in which case the message `\"You've successfully left the loop.\"` should be printed to the screen, and the loop should terminate.\n",
        "\n",
        "Don't print any of the words entered by the user. Use the concept of conditional execution and the break statement."
      ]
    },
    {
      "cell_type": "code",
      "execution_count": 36,
      "metadata": {
        "id": "CtcVm_PTB4qI",
        "colab": {
          "base_uri": "https://localhost:8080/"
        },
        "outputId": "8d1dfd67-a6d5-4a11-d7b9-37960bc118bf"
      },
      "outputs": [
        {
          "output_type": "stream",
          "name": "stdout",
          "text": [
            "Masukkan Sebuah Kata untuk keluar dari perulangan = chupacabra\n",
            "You've successfully left the loop\n"
          ]
        }
      ],
      "source": [
        "while True:\n",
        "    word = input(\"Masukkan Sebuah Kata untuk keluar dari perulangan = \")\n",
        "    if(word==\"chupacabra\"):\n",
        "        break\n",
        "\n",
        "print(\"You've successfully left the loop\")"
      ]
    },
    {
      "cell_type": "markdown",
      "metadata": {
        "id": "0gWI5gzBB4qI"
      },
      "source": [
        "## Latihan\n",
        "\n",
        "\n",
        "The `continue` statement is used to skip the current block and move ahead to the next iteration, without executing the statements inside the loop.\n",
        "\n",
        "It can be used with both the while and for loops.\n",
        "\n",
        "Your task here is very special: you must design a vowel eater! Write a program that uses:\n",
        "\n",
        "- a for loop;\n",
        "- the concept of conditional execution (if-elif-else)\n",
        "- the continue statement.\n",
        "\n",
        "Your program must:\n",
        "\n",
        "- ask the user to enter a word;\n",
        "- use `userWord = userWord.upper()` to convert the word entered by the user to upper case; we'll talk about the so-called string methods and the `upper()` method very soon - don't worry;\n",
        "- use conditional execution and the `continue` statement to \"eat\" the following vowels A, E, I, O, U from the inputted word;\n",
        "- print the uneaten letters to the screen, each one of them on a separate line.\n",
        "\n",
        "```python\n",
        "# Prompt the user to enter a word\n",
        "# and assign it to the userWord variable.\n",
        "\n",
        "for letter in userWord:\n",
        "    # Complete the body of the for loop.\n",
        "```\n",
        "\n",
        "Test your program with the data we've provided for you.\n",
        "\n",
        "\n",
        "Test data\n",
        "\n",
        "Sample input: `Gregory`\n",
        "\n",
        "Expected output:\n",
        "```\n",
        "G\n",
        "R\n",
        "G\n",
        "R\n",
        "Y\n",
        "```\n",
        "Sample input: `abstemious`\n",
        "\n",
        "Expected output:\n",
        "```\n",
        "B\n",
        "S\n",
        "T\n",
        "M\n",
        "S\n",
        "```"
      ]
    },
    {
      "cell_type": "code",
      "execution_count": 37,
      "metadata": {
        "id": "24vwQ4GMB4qI",
        "colab": {
          "base_uri": "https://localhost:8080/"
        },
        "outputId": "724334e4-1028-4307-bcf2-c2505d90dad0"
      },
      "outputs": [
        {
          "name": "stdout",
          "output_type": "stream",
          "text": [
            "Masukkan sebuah kata = A\n"
          ]
        }
      ],
      "source": [
        "# Prompt the user to enter a word\n",
        "# and assign it to the userWord variable.\n",
        "userWord = input(\"Masukkan sebuah kata = \")\n",
        "\n",
        "for letter in userWord:\n",
        "    if letter.upper() in ['A','I','U','E','O']:\n",
        "        continue\n",
        "\n",
        "    print(letter.upper())"
      ]
    },
    {
      "cell_type": "markdown",
      "metadata": {
        "id": "nX6dO6DGB4qJ"
      },
      "source": [
        "## Latihan\n",
        "\n",
        "Listen to this story: a boy and his father, a computer programmer, are playing with wooden blocks. They are building a pyramid.\n",
        "\n",
        "Their pyramid is a bit weird, as it is actually a pyramid-shaped wall - it's flat. The pyramid is stacked according to one simple principle: each lower layer contains one block more than the layer above.\n",
        "\n",
        "The figure illustrates the rule used by the builders:\n",
        "```\n",
        "=\n",
        "==\n",
        "===\n",
        "```\n",
        "blocks : 6\n",
        "height : 3\n",
        "Your task is to write a program which reads the number of blocks the builders have, and outputs the height of the pyramid that can be built using these blocks.\n",
        "\n",
        "Note: the height is measured by the number of fully completed layers - if the builders don't have a sufficient number of blocks and cannot complete the next layer, they finish their work immediately.\n",
        "\n",
        "Test your code using the data we've provided.\n",
        "\n",
        "Sample input: 6\n",
        "\n",
        "Expected output: The height of the pyramid: 3\n",
        "\n",
        "Sample input: 20\n",
        "\n",
        "Expected output: The height of the pyramid: 5\n",
        "\n",
        "Sample input: 1000\n",
        "\n",
        "Expected output: The height of the pyramid: 44\n",
        "\n",
        "Sample input: 2\n",
        "\n",
        "Expected output: The height of the pyramid: 1"
      ]
    },
    {
      "cell_type": "code",
      "execution_count": 38,
      "metadata": {
        "id": "FtQ7zzjaB4qJ",
        "colab": {
          "base_uri": "https://localhost:8080/"
        },
        "outputId": "218357ca-8ce1-44e1-e1bb-cc33c16989b3"
      },
      "outputs": [
        {
          "output_type": "stream",
          "name": "stdout",
          "text": [
            "Enter the number of blocks: 0\n",
            "The height of the pyramid: -1\n"
          ]
        }
      ],
      "source": [
        "blocks = int(input(\"Enter the number of blocks: \"))\n",
        "current_block = 0\n",
        "height = 0\n",
        "i=0\n",
        "\n",
        "while i<blocks:\n",
        "    height += 1\n",
        "    current_block += height\n",
        "    # print(i,current_block)\n",
        "    if current_block> blocks:\n",
        "        break\n",
        "\n",
        "height -= 1\n",
        "\n",
        "print(\"The height of the pyramid:\", height)"
      ]
    },
    {
      "cell_type": "markdown",
      "metadata": {
        "id": "QkDFGDEXB4qJ"
      },
      "source": [
        "### Latihan\n",
        "\n",
        "1. Buatlah perulangan dengan menggunakan for yang mulai dari 0 sampai dengan 10, dan cetak nomer ganjil pada layar.\n",
        "\n",
        "2. Buatlah perulangan dengan menggunakan while dari 0 sampai dengan 10, dan cetak nomer ganjil pada layar\n",
        "\n",
        "3. Buatlah sebuah program dengan perulangan for dan statement break. Program harus diiterasi sebanyak jumlah karakter didalam sebuah alamat email, dan loop akan berhenti jika menemukan simbol '@' dan cetak karakter yang ditemukan sebelum simbol '@' didalam sebuah line\n",
        "\n",
        "4. Buatlah sebuah perulangan loop dan statement continue. Program harus diiterasi sebanyak nomer yang ditemukan dalam string (digit = \"0165031806510\"), ganti 0 dengan x, lalu cetak string yang telah dimodifikasi."
      ]
    },
    {
      "cell_type": "code",
      "execution_count": 39,
      "metadata": {
        "id": "GRcbVw8UB4qJ",
        "colab": {
          "base_uri": "https://localhost:8080/"
        },
        "outputId": "72dbc760-0a6d-4529-da72-cd399c13900a"
      },
      "outputs": [
        {
          "output_type": "stream",
          "name": "stdout",
          "text": [
            "1 3 5 7 9 "
          ]
        }
      ],
      "source": [
        "for i in range(1, 11):\n",
        "    if i % 2 !=0:\n",
        "        print(i,end=' ')"
      ]
    },
    {
      "cell_type": "code",
      "execution_count": 40,
      "metadata": {
        "id": "Q76XMiN_B4qJ",
        "colab": {
          "base_uri": "https://localhost:8080/"
        },
        "outputId": "b4981359-4e80-4453-930f-c4e4f85ac671"
      },
      "outputs": [
        {
          "output_type": "stream",
          "name": "stdout",
          "text": [
            "1 3 5 7 9 "
          ]
        }
      ],
      "source": [
        "x=1\n",
        "while x<11:\n",
        "    if x % 2 !=0:\n",
        "        print(x,end=' ')\n",
        "    x +=1"
      ]
    },
    {
      "cell_type": "code",
      "execution_count": 41,
      "metadata": {
        "id": "QyiyE-8xB4qJ",
        "colab": {
          "base_uri": "https://localhost:8080/"
        },
        "outputId": "cc4e973a-35cf-4fd1-ac27-5dd798f386d4"
      },
      "outputs": [
        {
          "output_type": "stream",
          "name": "stdout",
          "text": [
            "r a t n a . l e s t a r i "
          ]
        }
      ],
      "source": [
        "for ch in \"ratna.lestari@ugm.ac.id\":\n",
        "    if ch == \"@\":\n",
        "        break\n",
        "    print(ch,end=' ')"
      ]
    },
    {
      "cell_type": "code",
      "execution_count": 42,
      "metadata": {
        "id": "Wnv9MRw5B4qJ",
        "colab": {
          "base_uri": "https://localhost:8080/"
        },
        "outputId": "86e0e300-6c32-4bed-831f-242febef08b3"
      },
      "outputs": [
        {
          "output_type": "stream",
          "name": "stdout",
          "text": [
            "x\n",
            "1\n",
            "6\n",
            "5\n",
            "x\n",
            "3\n",
            "1\n",
            "8\n",
            "x\n",
            "6\n",
            "5\n",
            "1\n",
            "x\n"
          ]
        }
      ],
      "source": [
        "for digit in \"0165031806510\":\n",
        "    if digit == \"0\":\n",
        "        print (\"x\")\n",
        "        continue\n",
        "    print(digit)"
      ]
    },
    {
      "cell_type": "markdown",
      "metadata": {
        "id": "6CBHi81FB4qJ"
      },
      "source": [
        "#### Apakah output dari kode-kode berikut?"
      ]
    },
    {
      "cell_type": "code",
      "execution_count": 43,
      "metadata": {
        "id": "v97OzTOYB4qJ",
        "colab": {
          "base_uri": "https://localhost:8080/"
        },
        "outputId": "af048a33-6d3b-4cdd-bd13-11c18cf7912f"
      },
      "outputs": [
        {
          "output_type": "stream",
          "name": "stdout",
          "text": [
            "4\n",
            "3\n",
            "2\n",
            "0\n"
          ]
        }
      ],
      "source": [
        "n = 3\n",
        "\n",
        "while n > 0:\n",
        "    print(n + 1)\n",
        "    n -= 1\n",
        "else:\n",
        "    print(n)"
      ]
    },
    {
      "cell_type": "code",
      "execution_count": 44,
      "metadata": {
        "id": "zBDQFlZ4B4qJ",
        "colab": {
          "base_uri": "https://localhost:8080/"
        },
        "outputId": "999d0ef4-7032-4ba6-a687-ff0a01cc9e60"
      },
      "outputs": [
        {
          "output_type": "stream",
          "name": "stdout",
          "text": [
            "-1\n",
            "0\n",
            "1\n",
            "2\n",
            "3\n"
          ]
        }
      ],
      "source": [
        "n = range(4)\n",
        "\n",
        "for num in n:\n",
        "    print(num - 1)\n",
        "else:\n",
        "    print(num)"
      ]
    },
    {
      "cell_type": "code",
      "execution_count": 45,
      "metadata": {
        "id": "3cbnxtiEB4qK",
        "colab": {
          "base_uri": "https://localhost:8080/"
        },
        "outputId": "b1459f5f-d121-45e6-fb07-aa36e9a967d9"
      },
      "outputs": [
        {
          "output_type": "stream",
          "name": "stdout",
          "text": [
            "0\n",
            "3\n"
          ]
        }
      ],
      "source": [
        "for i in range(0, 6, 3):\n",
        "    print(i)"
      ]
    },
    {
      "cell_type": "markdown",
      "metadata": {
        "id": "xfjdiAuIB4qK"
      },
      "source": [
        "## 3.3 Operasi Logika\n",
        "\n",
        "Operasi Logika `and`\n",
        "\n",
        "| Argument A | Argument B | A and B |\n",
        "|------------|------------|---------|\n",
        "| False      | False      | False   |\n",
        "| False      | True       | False   |\n",
        "| True       | False      | False   |\n",
        "| True       | True       | True    |\n",
        "\n",
        "Operasi Logika `or`\n",
        "\n",
        "| Argument A | Argument B | A or B |\n",
        "|------------|------------|--------|\n",
        "| False      | False      | False  |\n",
        "| False      | True       | True   |\n",
        "| True       | False      | True   |\n",
        "| True       | True       | True   |\n",
        "\n",
        "Operasi Logika `not`\n",
        "\n",
        "| Argument | not Argument |\n",
        "|----------|--------------|\n",
        "| False    | True         |\n",
        "| True     | False        |\n"
      ]
    },
    {
      "cell_type": "markdown",
      "metadata": {
        "id": "kAbYdiQ2B4qK"
      },
      "source": [
        "> If we have some free time, <b>and</b> the weather is good, we will go for a walk\n",
        "\n",
        "> If you are in the mall <b>or</b> I am in the mall, one of us will buy a gift for Mom.\n",
        "\n",
        "Perhatikan contoh dibawah ini :"
      ]
    },
    {
      "cell_type": "code",
      "execution_count": 46,
      "metadata": {
        "id": "MOmXtn7KB4qK",
        "colab": {
          "base_uri": "https://localhost:8080/"
        },
        "outputId": "9864e94b-1cd8-4e70-9040-f5d2b9ea7230"
      },
      "outputs": [
        {
          "output_type": "stream",
          "name": "stdout",
          "text": [
            "False\n"
          ]
        }
      ],
      "source": [
        "x = 1\n",
        "y = 0\n",
        "\n",
        "z = ((x == y) and (x == y)) or not(x == y)\n",
        "print(not(z))"
      ]
    },
    {
      "cell_type": "markdown",
      "metadata": {
        "id": "4hXUjsbWB4qK"
      },
      "source": [
        "## 3.4 List dan Array\n",
        "\n",
        "Tipe list dalam python sebenernya mirip dengan array normal pada bahasa pemrograman lain. List juga dapat menampung beberapa tipe data sekaligus.\n",
        "\n",
        "Bentuk umum untuk membuat list dalam python adalah :\n",
        "\n",
        "```python\n",
        "\n",
        "nama_list = [nilai1, nilai2, nilai3,...]\n",
        "```\n",
        "\n",
        "Perhatikan contoh dibawah ini :"
      ]
    },
    {
      "cell_type": "code",
      "execution_count": 47,
      "metadata": {
        "id": "-Ak9RhcSB4qK",
        "colab": {
          "base_uri": "https://localhost:8080/"
        },
        "outputId": "ef7cad9e-4399-4161-9451-76ba2dfe6d22"
      },
      "outputs": [
        {
          "output_type": "stream",
          "name": "stdout",
          "text": [
            "[1, 2, 3, 4, 5]\n"
          ]
        }
      ],
      "source": [
        "var1=1\n",
        "var2=2\n",
        "var3=3\n",
        "var4=4\n",
        "var5=5\n",
        "\n",
        "#bandingkan\n",
        "\n",
        "var=[1,2,3,4,5]\n",
        "print(var)"
      ]
    },
    {
      "cell_type": "markdown",
      "metadata": {
        "id": "6hRH_XuSB4qK"
      },
      "source": [
        "### Indexing List\n",
        "Dalam list, elemen tidak diindeks berdasarkan key tertentu yang namanya bisa didefinisikan sendiri melainkan berdasarkan indeks bilangan yang diawali dengan nilai nol(0). Perhatikan contoh berikut :"
      ]
    },
    {
      "cell_type": "code",
      "execution_count": 48,
      "metadata": {
        "id": "BU6Ot1nGB4qK",
        "colab": {
          "base_uri": "https://localhost:8080/"
        },
        "outputId": "7145efa5-127a-4aac-bc2a-fc173a1b83c4"
      },
      "outputs": [
        {
          "output_type": "stream",
          "name": "stdout",
          "text": [
            "[2, 3, 4, 5]\n",
            "4\n",
            "5\n"
          ]
        }
      ],
      "source": [
        "num = [2,3,4,5]\n",
        "print(num)\n",
        "print(num[2])\n",
        "print(num[-1])"
      ]
    },
    {
      "cell_type": "markdown",
      "metadata": {
        "id": "Lxi5X3FBB4qK"
      },
      "source": [
        "Indeks dapat juga bernilai negatif yaitu menghitung indeks mulai dari kanan. Perhatikan contoh berikut :"
      ]
    },
    {
      "cell_type": "code",
      "execution_count": 49,
      "metadata": {
        "id": "ucQraiPPB4qK",
        "colab": {
          "base_uri": "https://localhost:8080/"
        },
        "outputId": "a67c33ca-dd2b-48cb-8c81-8e458f092706"
      },
      "outputs": [
        {
          "output_type": "stream",
          "name": "stdout",
          "text": [
            "500\n",
            "400\n",
            "100\n",
            "\n",
            "\n",
            "500\n",
            "400\n",
            "100\n"
          ]
        }
      ],
      "source": [
        "lst = [100,200,300,400,500]\n",
        "print(lst[-1])\n",
        "print(lst[-2])\n",
        "print(lst[-5])\n",
        "\n",
        "print(\"\\n\")\n",
        "print(lst[4])\n",
        "print(lst[3])\n",
        "print(lst[0])"
      ]
    },
    {
      "cell_type": "markdown",
      "metadata": {
        "id": "DBOPBeDPB4qL"
      },
      "source": [
        "## Slicing List"
      ]
    },
    {
      "cell_type": "code",
      "execution_count": 50,
      "metadata": {
        "id": "_SA8hojbB4qL",
        "colab": {
          "base_uri": "https://localhost:8080/"
        },
        "outputId": "12525dea-430e-4782-9dfc-cd1fbe32a4de"
      },
      "outputs": [
        {
          "output_type": "stream",
          "name": "stdout",
          "text": [
            "[4, 1, 6]\n",
            "[1, 6]\n",
            "[9, 10, 8]\n",
            "[4, 1, 6]\n",
            "[4, 1, 6, 9, 10, 8]\n"
          ]
        }
      ],
      "source": [
        "lst=[4,1,6,9,10,8]\n",
        "\n",
        "print(lst[0:3])\n",
        "print(lst[1:3])\n",
        "\n",
        "print(lst[-3:])\n",
        "print(lst[:-3])\n",
        "\n",
        "print(lst[:])"
      ]
    },
    {
      "cell_type": "markdown",
      "metadata": {
        "id": "oIxQgYnWB4qL"
      },
      "source": [
        "### Swap\n",
        "\n",
        "Nilai elemen didalam list selain dapat diakses juga dapat dimanipulasi dengan swapping. Perhatikan contoh berikut :"
      ]
    },
    {
      "cell_type": "code",
      "execution_count": 51,
      "metadata": {
        "id": "NsxwVDaJB4qL",
        "colab": {
          "base_uri": "https://localhost:8080/"
        },
        "outputId": "f53ff0b7-263d-4cb3-9a55-4c0cd5a354e3"
      },
      "outputs": [
        {
          "output_type": "stream",
          "name": "stdout",
          "text": [
            "[3, 2, 4]\n"
          ]
        }
      ],
      "source": [
        "num=[2,3,4]\n",
        "num[0],num[1] = num[1], num[0]\n",
        "print(num)"
      ]
    },
    {
      "cell_type": "markdown",
      "metadata": {
        "id": "cuckj1PmB4qL"
      },
      "source": [
        "#### Bubble Short\n",
        "![BubbleSort_worst_case.gif](attachment:BubbleSort_worst_case.gif)"
      ]
    },
    {
      "cell_type": "code",
      "execution_count": 52,
      "metadata": {
        "id": "egXC1GG4B4qL",
        "colab": {
          "base_uri": "https://localhost:8080/"
        },
        "outputId": "8c25017e-097a-4b8e-b813-8511fd7490ab"
      },
      "outputs": [
        {
          "output_type": "stream",
          "name": "stdout",
          "text": [
            "[2, 4, 6, 8, 10]\n"
          ]
        }
      ],
      "source": [
        "myList = [8, 10, 6, 2, 4] # list to sort\n",
        "swapped = True # it's a little fake - we need it to enter the while loop\n",
        "\n",
        "while swapped:\n",
        "    swapped = False # no swaps so far\n",
        "    for i in range(len(myList) - 1):\n",
        "        if myList[i] > myList[i + 1]:\n",
        "            swapped = True # swap occured!\n",
        "            myList[i], myList[i + 1] = myList[i + 1], myList[i]\n",
        "\n",
        "print(myList)"
      ]
    },
    {
      "cell_type": "markdown",
      "metadata": {
        "id": "cwhvjL12B4qL"
      },
      "source": [
        "### Lab 3.4.1.6: The basics of lists\n",
        "There once was a hat. The hat contained no rabbit, but a list of five numbers: 1, 2, 3, 4, and 5.\n",
        "\n",
        "Your task is to:\n",
        "\n",
        "- write a line of code that prompts the user to replace the middle number in the list with an integer number entered by the user (step 1)\n",
        "- write a line of code that removes the last element from the list (step 2)\n",
        "- write a line of code that prints the length of the existing list (step 3.)\n",
        "Ready for this challenge?"
      ]
    },
    {
      "cell_type": "code",
      "execution_count": 53,
      "metadata": {
        "id": "glBMt7ZNB4qM",
        "colab": {
          "base_uri": "https://localhost:8080/"
        },
        "outputId": "388280af-68c9-4e11-f624-f62e4db8f3a9"
      },
      "outputs": [
        {
          "output_type": "stream",
          "name": "stdout",
          "text": [
            "[1, 2, 3, 4, 5]\n"
          ]
        }
      ],
      "source": [
        "hatList = [1, 2, 3, 4, 5]  # This is an existing list of numbers hidden in the hat.\n",
        "\n",
        "# Step 1: write a line of code that prompts the user\n",
        "# to replace the middle number with an integer number entered by the user.\n",
        "\n",
        "# Step 2: write a line of code here that removes the last element from the list.\n",
        "\n",
        "# Step 3: write a line of code here that prints the length of the existing list.\n",
        "\n",
        "print(hatList)"
      ]
    },
    {
      "cell_type": "markdown",
      "metadata": {
        "id": "noPc-NiEB4qM"
      },
      "source": [
        "### Menambah Elemen ke dalam list\n",
        "\n",
        "Terdapat tiga cara untuk menambahkan elemen baru kedalam sebuah list yaitu :\n",
        "\n",
        " - Menggunakan metode append() : Metode ini digunakan untuk menambah elemen tunggal dibagian akhir list. Perhatikan contoh dibawah :"
      ]
    },
    {
      "cell_type": "code",
      "execution_count": 54,
      "metadata": {
        "id": "RqHngQUUB4qM",
        "colab": {
          "base_uri": "https://localhost:8080/"
        },
        "outputId": "f366de76-0306-48ea-ed79-4327f0e44d7c"
      },
      "outputs": [
        {
          "output_type": "stream",
          "name": "stdout",
          "text": [
            "['Salak', 'Mangga', 'Apel', 'Jeruk']\n"
          ]
        }
      ],
      "source": [
        "buah=[\"Salak\",\"Mangga\",\"Apel\"]\n",
        "buah.append(\"Jeruk\")\n",
        "print(buah)"
      ]
    },
    {
      "cell_type": "code",
      "execution_count": 55,
      "metadata": {
        "id": "-K4no1ZHB4qM",
        "colab": {
          "base_uri": "https://localhost:8080/"
        },
        "outputId": "180019a4-a1ea-4364-a71d-5e143659a79a"
      },
      "outputs": [
        {
          "output_type": "stream",
          "name": "stdout",
          "text": [
            "[1, 2, 3, 4, 5]\n"
          ]
        }
      ],
      "source": [
        "myList = [] # creating an empty list\n",
        "\n",
        "for i in range(5):\n",
        "    myList.append(i + 1)\n",
        "\n",
        "print(myList)"
      ]
    },
    {
      "cell_type": "markdown",
      "metadata": {
        "id": "xPQ9HDkBB4qM"
      },
      "source": [
        "`Menggunakan metode insert() : Metode ini digunakan untuk menambah elemen tunggal di indeks / posisi tertentu. Perhatikan contoh dibawah :`"
      ]
    },
    {
      "cell_type": "code",
      "execution_count": 56,
      "metadata": {
        "id": "8l4_6N41B4qM",
        "colab": {
          "base_uri": "https://localhost:8080/"
        },
        "outputId": "81234e37-87ad-466e-ff76-f84ac6e9776f"
      },
      "outputs": [
        {
          "output_type": "stream",
          "name": "stdout",
          "text": [
            "['durian', 'kiwi', 'mangga', 'apel']\n"
          ]
        }
      ],
      "source": [
        "buah = [\"durian\", \"mangga\", \"apel\"]\n",
        "buah.insert(1,\"kiwi\")\n",
        "print (buah)"
      ]
    },
    {
      "cell_type": "code",
      "execution_count": 57,
      "metadata": {
        "id": "8NU30CnrB4qM",
        "colab": {
          "base_uri": "https://localhost:8080/"
        },
        "outputId": "d0562de4-82e6-480e-fc51-f571a79ee303"
      },
      "outputs": [
        {
          "output_type": "stream",
          "name": "stdout",
          "text": [
            "4\n",
            "[111, 7, 2, 1]\n",
            "5\n",
            "[111, 7, 2, 1, 4]\n",
            "6\n",
            "[222, 111, 7, 2, 1, 4]\n"
          ]
        }
      ],
      "source": [
        "numbers = [111, 7, 2, 1]\n",
        "print(len(numbers))\n",
        "print(numbers)\n",
        "\n",
        "###\n",
        "\n",
        "numbers.append(4)\n",
        "\n",
        "print(len(numbers))\n",
        "print(numbers)\n",
        "\n",
        "###\n",
        "\n",
        "numbers.insert(0, 222)\n",
        "print(len(numbers))\n",
        "print(numbers)\n",
        "\n",
        "#"
      ]
    },
    {
      "cell_type": "markdown",
      "metadata": {
        "id": "WbP_7zIJB4qM"
      },
      "source": [
        "### Menghapus Elemen kedalam list\n",
        "\n",
        "Menghapus elemen dapat dilakukan dengan :\n",
        "\n",
        "```python\n",
        "nama_list.remove(nilai)\n",
        "```\n",
        "\n",
        "atau dengan memberikan indeksnya menggunakan instruksi delete :\n",
        "\n",
        "```python\n",
        "del nama_list[indeks]"
      ]
    },
    {
      "cell_type": "code",
      "execution_count": 58,
      "metadata": {
        "id": "vU70nOC2B4qM",
        "colab": {
          "base_uri": "https://localhost:8080/"
        },
        "outputId": "d6c65fb7-f480-49c8-ef90-6d17dc6b83d6"
      },
      "outputs": [
        {
          "output_type": "stream",
          "name": "stdout",
          "text": [
            "[5, 3, 2, 1]\n"
          ]
        }
      ],
      "source": [
        "num = [5,4,3,2,1]\n",
        "\n",
        "del num[1]\n",
        "print(num)"
      ]
    },
    {
      "cell_type": "markdown",
      "metadata": {
        "id": "Xuh2O2fGB4qM"
      },
      "source": [
        "## Latihan\n",
        "\n",
        "The Beatles were one of the most popular music group of the 1960s, and the best-selling band in history. Some people consider them to be the most influential act of the rock era. Indeed, they were included in Time magazine's compilation of the 20th Century's 100 most influential people.\n",
        "\n",
        "The band underwent many line-up changes, culminating in 1962 with the line-up of John Lennon, Paul McCartney, George Harrison, and Richard Starkey (better known as Ringo Starr).\n",
        "\n",
        "\n",
        "Write a program that reflects these changes and lets you practice with the concept of lists. Your task is to:\n",
        "\n",
        "- step 1: create an empty list named `beatles`;\n",
        "- step 2: use the `append()` method to add the following members of the band to the list: `John Lennon`, `Paul McCartney`, and `George Harrison`;\n",
        "- step 3: use the `for` loop and the `append()` method to prompt the user to add the following members of the band to the list: `Stu Sutcliffe`, and `Pete Best`;\n",
        "- step 4: use the `del` instruction to remove `Stu Sutcliffe` and `Pete Best` from the list;\n",
        "- step 5: use the `insert()` method to add `Ringo Starr` to the beginning of the list.\n",
        "By the way, are you a Beatles fan?"
      ]
    },
    {
      "cell_type": "code",
      "execution_count": 59,
      "metadata": {
        "id": "MJRu_nu7B4qM",
        "colab": {
          "base_uri": "https://localhost:8080/"
        },
        "outputId": "1a8628cf-114e-4e4c-8952-8fe7bde4dc6f"
      },
      "outputs": [
        {
          "output_type": "stream",
          "name": "stdout",
          "text": [
            "Step 1: []\n",
            "Step 2: ['John Lennon', 'Paul McCartney', 'George Harrison']\n",
            "Masukkan anggota baru = Rama\n",
            "Masukkan anggota baru = QWE\n",
            "Step 3: ['John Lennon', 'Paul McCartney', 'George Harrison', 'Rama', 'QWE']\n",
            "Step 4: ['John Lennon', 'Paul McCartney', 'George Harrison']\n",
            "Step 5: ['Ringo Starr', 'John Lennon', 'Paul McCartney', 'George Harrison']\n",
            "The Fab 4\n"
          ]
        }
      ],
      "source": [
        "# step 1\n",
        "beatles = []\n",
        "print(\"Step 1:\", beatles)\n",
        "\n",
        "# step 2\n",
        "beatles.append(\"John Lennon\")\n",
        "beatles.append(\"Paul McCartney\")\n",
        "beatles.append(\"George Harrison\")\n",
        "print(\"Step 2:\", beatles)\n",
        "\n",
        "# step 3\n",
        "for i in range(2):\n",
        "    nama = input(\"Masukkan anggota baru = \")\n",
        "    beatles.append(nama)\n",
        "print(\"Step 3:\", beatles)\n",
        "\n",
        "# step 4\n",
        "del beatles[-2:]\n",
        "print(\"Step 4:\", beatles)\n",
        "\n",
        "# step 5\n",
        "beatles.insert(0,\"Ringo Starr\")\n",
        "print(\"Step 5:\", beatles)\n",
        "\n",
        "\n",
        "# testing list legth\n",
        "print(\"The Fab\", len(beatles))"
      ]
    },
    {
      "cell_type": "markdown",
      "metadata": {
        "id": "zYU7-ufqB4qN"
      },
      "source": [
        "## Tambahan Method"
      ]
    },
    {
      "cell_type": "code",
      "execution_count": 60,
      "metadata": {
        "id": "AaQt-SeMB4qN",
        "colab": {
          "base_uri": "https://localhost:8080/"
        },
        "outputId": "12bc2623-7768-4224-8d31-0582b3b731fe"
      },
      "outputs": [
        {
          "output_type": "stream",
          "name": "stdout",
          "text": [
            "[5, 1, 3, 2, 10]\n",
            "[1, 2, 3, 5, 10]\n",
            "[10, 5, 3, 2, 1]\n"
          ]
        }
      ],
      "source": [
        "lst = [5, 1, 3, 2, 10]\n",
        "print(lst)\n",
        "lst.sort()\n",
        "print(lst)\n",
        "lst.reverse()\n",
        "print(lst)"
      ]
    },
    {
      "cell_type": "code",
      "execution_count": 61,
      "metadata": {
        "id": "wRShKgNDB4qN",
        "colab": {
          "base_uri": "https://localhost:8080/"
        },
        "outputId": "622e4c28-7cfe-4a3f-c82f-ea0821ac8143"
      },
      "outputs": [
        {
          "output_type": "stream",
          "name": "stdout",
          "text": [
            "['car', 'bicycle', 'motor']\n",
            "['bicycle', 'motor']\n",
            "['bicycle', 'motor']\n"
          ]
        }
      ],
      "source": [
        "vehiclesOne = ['car', 'bicycle', 'motor']\n",
        "print(vehiclesOne) # outputs: ['car', 'bicycle', 'motor']\n",
        "\n",
        "vehiclesTwo = vehiclesOne\n",
        "del vehiclesOne[0] # deletes 'car'\n",
        "print(vehiclesTwo) # outputs: ['bicycle', 'motor']\n",
        "print(vehiclesOne)"
      ]
    },
    {
      "cell_type": "code",
      "execution_count": 62,
      "metadata": {
        "id": "9KNamCnlB4qN",
        "colab": {
          "base_uri": "https://localhost:8080/"
        },
        "outputId": "48db7a83-9328-4497-d959-e0e0d09b9180"
      },
      "outputs": [
        {
          "output_type": "stream",
          "name": "stdout",
          "text": [
            "['car', 'bicycle', 'motor']\n",
            "['car', 'bicycle', 'motor']\n",
            "['bicycle', 'motor']\n"
          ]
        }
      ],
      "source": [
        "vehiclesOne = ['car', 'bicycle', 'motor']\n",
        "print(vehiclesOne) # outputs: ['car', 'bicycle', 'motor']\n",
        "\n",
        "vehiclesTwo = vehiclesOne[:]\n",
        "del vehiclesOne[0] # deletes 'car'\n",
        "print(vehiclesTwo) # outputs: ['bicycle', 'motor']\n",
        "print(vehiclesOne)"
      ]
    },
    {
      "cell_type": "code",
      "execution_count": 63,
      "metadata": {
        "id": "ehiz8LlkB4qN",
        "colab": {
          "base_uri": "https://localhost:8080/"
        },
        "outputId": "f6388718-0b8a-428b-b777-1f12072776d2"
      },
      "outputs": [
        {
          "output_type": "stream",
          "name": "stdout",
          "text": [
            "False\n",
            "Nama Budi ada di list\n"
          ]
        }
      ],
      "source": [
        "nama = [\"Ana\",\"Budi\",\"Citra\"]\n",
        "kata_kunci = \"Budi\"\n",
        "\n",
        "print(kata_kunci not in nama)\n",
        "\n",
        "if kata_kunci in nama:\n",
        "    print(\"Nama \"+kata_kunci+\" ada di list\")"
      ]
    },
    {
      "cell_type": "code",
      "execution_count": 64,
      "metadata": {
        "id": "7OirPDzXB4qN",
        "colab": {
          "base_uri": "https://localhost:8080/"
        },
        "outputId": "62c75751-098a-49ae-d285-dd230144215f"
      },
      "outputs": [
        {
          "output_type": "stream",
          "name": "stdout",
          "text": [
            "0 1 2 3 4 5 6 7 8 9 \n",
            "1 2 3 4 5 6 \n",
            "1 3 5 7 9 \n",
            "10 8 6 4 2 0 -2 -4 -6 -8 "
          ]
        }
      ],
      "source": [
        "for i in range(10):\n",
        "    print(i, end=\" \")\n",
        "\n",
        "print()\n",
        "for i in range(1,7):\n",
        "    print(i, end=\" \")\n",
        "\n",
        "print()\n",
        "for i in range(1,10,2):\n",
        "    print(i, end=\" \")\n",
        "\n",
        "print()\n",
        "for i in range(10,-10,-2):\n",
        "    print(i, end=\" \")"
      ]
    },
    {
      "cell_type": "code",
      "execution_count": 65,
      "metadata": {
        "id": "X_ELs38UB4qN",
        "colab": {
          "base_uri": "https://localhost:8080/"
        },
        "outputId": "ece30fac-9153-4cee-8fec-b193ea7d515d"
      },
      "outputs": [
        {
          "output_type": "stream",
          "name": "stdout",
          "text": [
            "1 3 5 7 9 "
          ]
        }
      ],
      "source": [
        "for i in range(1, 11):\n",
        "    if i%2 != 0:\n",
        "        print(i, end=\" \")"
      ]
    },
    {
      "cell_type": "code",
      "execution_count": 66,
      "metadata": {
        "id": "7TBF25nIB4qN",
        "colab": {
          "base_uri": "https://localhost:8080/"
        },
        "outputId": "2b34bd4a-2cf0-4afe-a271-41407066d22a"
      },
      "outputs": [
        {
          "output_type": "stream",
          "name": "stdout",
          "text": [
            "1 3 5 7 9 "
          ]
        }
      ],
      "source": [
        "x = 1\n",
        "while x < 11:\n",
        "    if x%2!=0:\n",
        "        print(x, end=\" \")\n",
        "    x += 1"
      ]
    },
    {
      "cell_type": "code",
      "execution_count": 67,
      "metadata": {
        "id": "mW2rm5KQB4qN",
        "colab": {
          "base_uri": "https://localhost:8080/"
        },
        "outputId": "352094cc-6615-41c5-c071-ada0a5f90653"
      },
      "outputs": [
        {
          "output_type": "stream",
          "name": "stdout",
          "text": [
            "john.smith"
          ]
        }
      ],
      "source": [
        "for ch in \"john.smith@pythoninstitute.org\":\n",
        "    if ch == \"@\":\n",
        "        break\n",
        "    print(ch,end=\"\")"
      ]
    },
    {
      "cell_type": "code",
      "execution_count": 68,
      "metadata": {
        "id": "2nJ5xDg6B4qO",
        "colab": {
          "base_uri": "https://localhost:8080/"
        },
        "outputId": "0f2780f5-a5f4-4f76-ef83-930c4bd3355b"
      },
      "outputs": [
        {
          "output_type": "stream",
          "name": "stdout",
          "text": [
            "x165x318x651x"
          ]
        }
      ],
      "source": [
        "for digit in \"0165031806510\":\n",
        "    if digit == \"0\":\n",
        "        print(\"x\",end=\"\")\n",
        "        continue\n",
        "    print(digit,end=\"\")"
      ]
    },
    {
      "cell_type": "markdown",
      "metadata": {
        "id": "h9kTC5UYB4qO"
      },
      "source": [
        "### List Method (Advance)\n",
        "\n",
        "Perhatikan contoh berikut :"
      ]
    },
    {
      "cell_type": "code",
      "execution_count": 69,
      "metadata": {
        "id": "8dJxi5svB4qO",
        "colab": {
          "base_uri": "https://localhost:8080/"
        },
        "outputId": "5d452188-7fc6-475b-9297-49807f0065f0"
      },
      "outputs": [
        {
          "output_type": "stream",
          "name": "stdout",
          "text": [
            "27\n"
          ]
        }
      ],
      "source": [
        "myList = [10, 1, 8, 3, 5]\n",
        "total = 0\n",
        "\n",
        "for i in range(len(myList)):\n",
        "    total += myList[i]\n",
        "\n",
        "print(total)"
      ]
    },
    {
      "cell_type": "code",
      "execution_count": 70,
      "metadata": {
        "id": "opY2ctvJB4qO",
        "colab": {
          "base_uri": "https://localhost:8080/"
        },
        "outputId": "78865991-d1db-4370-b7d3-14919de73059"
      },
      "outputs": [
        {
          "output_type": "stream",
          "name": "stdout",
          "text": [
            "[0, 1, 4, 9, 16, 25, 36, 49, 64, 81]\n"
          ]
        }
      ],
      "source": [
        "#squares = [x ** 2 for x in range(10)]\n",
        "#print (squares)\n",
        "\n",
        "squares = []\n",
        "for x in range(10):\n",
        "    squares.append(x ** 2)\n",
        "print(squares)"
      ]
    },
    {
      "cell_type": "code",
      "execution_count": 71,
      "metadata": {
        "id": "mqP6kVTHB4qO",
        "colab": {
          "base_uri": "https://localhost:8080/"
        },
        "outputId": "51195fa2-6ae3-4cd9-987f-a3a1a4095c81"
      },
      "outputs": [
        {
          "output_type": "stream",
          "name": "stdout",
          "text": [
            "[1, 2, 4, 8, 16, 32, 64, 128]\n"
          ]
        }
      ],
      "source": [
        "twos = [2 ** i for i in range(8)]\n",
        "print(twos)"
      ]
    },
    {
      "cell_type": "code",
      "execution_count": 72,
      "metadata": {
        "id": "KiW5WJg1B4qO",
        "colab": {
          "base_uri": "https://localhost:8080/"
        },
        "outputId": "48ec8afa-230d-4dfa-f643-100e6efd5b7c"
      },
      "outputs": [
        {
          "output_type": "stream",
          "name": "stdout",
          "text": [
            "[]\n",
            "[]\n"
          ]
        }
      ],
      "source": [
        "squares = []\n",
        "odds = [x for x in squares if x % 2 != 0 ]\n",
        "print (odds)\n",
        "\n",
        "# sama dengan\n",
        "odds = []\n",
        "for x in squares:\n",
        "    if x % 2 != 0:\n",
        "        odds.append(x)\n",
        "print (odds)"
      ]
    },
    {
      "cell_type": "markdown",
      "metadata": {
        "id": "42y8zROHB4qO"
      },
      "source": [
        "### List Dua Dimensi (Array)\n",
        "\n",
        "List dapat berisi berbagai tipe data seperti strings, boolean maupun list lainnya. Kita sering sekali menemukan bentuk array seperti ini dikehidupan kita, salah satu contohnya adalah papan catur. Papan catur terdiri dari baris dan kolom, terdapat 8 baris dan juga 8 kolom. Setiap kolom ditandai oleh huruf A sampai dengan H, dan setiap baris ditandai oleh 1 sampai dengan 8.\n",
        "\n",
        "Perhatikan kode berikut :"
      ]
    },
    {
      "cell_type": "code",
      "execution_count": 73,
      "metadata": {
        "id": "dYTY2C16B4qO",
        "colab": {
          "base_uri": "https://localhost:8080/"
        },
        "outputId": "0773c620-9432-45e2-ae0e-612949962652"
      },
      "outputs": [
        {
          "output_type": "stream",
          "name": "stdout",
          "text": [
            "2\n",
            "[[3, 5, 1], [6, 1, 8], [9, 10, 4]]\n",
            "[6, 1, 8]\n",
            "6\n",
            "[10, 4]\n"
          ]
        }
      ],
      "source": [
        "# Contoh List di dalam List\n",
        "i = [2,3,4,5]\n",
        "print(i[0])\n",
        "\n",
        "k = [[3,5,1],[6,1,8],[9,10,4]]\n",
        "print(k)\n",
        "print(k[1])\n",
        "print(k[1][0])\n",
        "print(k[-1][-2:])"
      ]
    },
    {
      "cell_type": "code",
      "execution_count": 74,
      "metadata": {
        "id": "0DMNt4vMB4qO",
        "colab": {
          "base_uri": "https://localhost:8080/"
        },
        "outputId": "67eea11d-4298-494a-cf94-f3dce742e101"
      },
      "outputs": [
        {
          "output_type": "stream",
          "name": "stdout",
          "text": [
            "['-', '-', '-', '-', '-', '-', '-', '-']\n",
            "['-', '-', '-', '-', '-', '-', '-', '-']\n",
            "['-', '-', '-', '-', '-', '-', '-', '-']\n",
            "['-', '-', '-', '-', '-', '-', '-', '-']\n",
            "['-', '-', '-', '-', '-', '-', '-', '-']\n",
            "['-', '-', '-', '-', '-', '-', '-', '-']\n",
            "['-', '-', '-', '-', '-', '-', '-', '-']\n",
            "['-', '-', '-', '-', '-', '-', '-', '-']\n"
          ]
        }
      ],
      "source": [
        "EMPTY = \"-\"\n",
        "board = []\n",
        "\n",
        "for i in range(8):\n",
        "    row = [EMPTY for i in range(8)] #membuat satu list\n",
        "    board.append(row) #membuat 8 list\n",
        "    print(row)\n",
        "#print(board)"
      ]
    },
    {
      "cell_type": "markdown",
      "metadata": {
        "id": "SNlfPazHB4qO"
      },
      "source": [
        "List diatas menggambarkan list papan catur yang masih kosong sebagaimana gambar ilustrasi dibawah :\n",
        "\n",
        "![rook.JPG](attachment:rook.JPG)\n",
        "\n",
        "Mari kita isi list sersebut dengan sesuatu yang kita inginkan. Perhatikan kode berikut :"
      ]
    },
    {
      "cell_type": "code",
      "execution_count": 75,
      "metadata": {
        "id": "5_l1vE60B4qO",
        "colab": {
          "base_uri": "https://localhost:8080/"
        },
        "outputId": "599ba4b8-e8c9-4869-81e2-819f5ac05803"
      },
      "outputs": [
        {
          "output_type": "stream",
          "name": "stdout",
          "text": [
            "[['ROOK', '-', '-', '-', '-', '-', '-', 'ROOK'], ['-', '-', '-', '-', '-', '-', '-', '-'], ['-', '-', '-', '-', '-', '-', '-', '-'], ['-', '-', '-', '-', 'PAWN', '-', '-', '-'], ['-', '-', 'KNIGHT', '-', '-', '-', '-', '-'], ['-', '-', '-', '-', '-', 'LIMA', '-', '-'], ['-', '-', '-', '-', '-', '-', '-', '-'], ['ROOK', '-', '-', '-', '-', '-', '-', 'ROOK']]\n",
            "\n",
            "\n"
          ]
        }
      ],
      "source": [
        "EMPTY = \"-\"\n",
        "LIMALIMA = \"LIMA\"\n",
        "ROOK = \"ROOK\"\n",
        "KNIGHT = \"KNIGHT\"\n",
        "PAWN = \"PAWN\"\n",
        "board = []\n",
        "\n",
        "for i in range(8):\n",
        "    row = [EMPTY for i in range(8)]\n",
        "    board.append(row)\n",
        "\n",
        "#isi dengan ROOK\n",
        "board[0][0] = ROOK\n",
        "board[5][5] = LIMALIMA\n",
        "board[0][7] = ROOK\n",
        "board[7][0] = ROOK\n",
        "board[7][7] = ROOK\n",
        "\n",
        "#isi dengan KNIGHT\n",
        "board[4][2] = KNIGHT\n",
        "\n",
        "#isi dengan PAWN\n",
        "board[3][4] = PAWN\n",
        "\n",
        "\n",
        "print(board)\n",
        "print(\"\\n\")"
      ]
    },
    {
      "cell_type": "markdown",
      "metadata": {
        "id": "A6SLYziuB4qO"
      },
      "source": [
        "#### List Multidimensi (Array)\n",
        "\n",
        "Untuk mencari sebuah elemen pada list dua dimensi adalah dengan menggunakan dua koordinat yaitu nomer baris dan juga nomer kolom. Bayangkan ketika anda akan mengembangkan sebuah program untuk perekam cuaca otomatis. Alat ini akan mampu merekam suhu udara tiap jam sampai dengan satu bulan. Maka total data yang akan direkam adalah 24 jam x 31 hari = 744 data.\n",
        "\n",
        "Pertama-tama, kita harus memutuskan tipe data yang akan tepat untuk aplikasi ini. Pada kasus ini, tipe float adalah yang paling sesuai karena suhu biasanya diukur sampai dengan akurasi satu dibelakang koma (0.1). Selanjutnya, kita akan menentukan bahwa baris akan merepresentasikan jam (sehingga ada 24 baris) dan setiap baris akan direpresentasikan untuk satu hari (sehingga kita membutuhkan lagi 31 baris)."
      ]
    },
    {
      "cell_type": "code",
      "execution_count": 76,
      "metadata": {
        "id": "durIZO4nB4qP",
        "colab": {
          "base_uri": "https://localhost:8080/"
        },
        "outputId": "17b8727d-6df4-4483-ba79-4e9efa620104"
      },
      "outputs": [
        {
          "output_type": "stream",
          "name": "stdout",
          "text": [
            "[[0.0, 0.0], [0.0, 0.0], [0.0, 0.0], [0.0, 0.0]]\n"
          ]
        }
      ],
      "source": [
        "temps = [[0.0 for h in range(2)] for d in range(4)]\n",
        "print (temps)"
      ]
    },
    {
      "cell_type": "code",
      "execution_count": 77,
      "metadata": {
        "id": "nidMQNJXB4qP",
        "colab": {
          "base_uri": "https://localhost:8080/"
        },
        "outputId": "c5909323-51b3-47b0-fb41-fbbad48db815"
      },
      "outputs": [
        {
          "output_type": "stream",
          "name": "stdout",
          "text": [
            "Average temperature at noon: 0.0\n",
            "The highest temperature was: 0.0\n",
            "0 days were hot.\n"
          ]
        }
      ],
      "source": [
        "temps = [[0.0 for h in range(24)] for d in range(31)]\n",
        "\n",
        "# 1. the monthly average noon temperature\n",
        "sum = 0.0\n",
        "\n",
        "for day in temps:\n",
        "    sum += day[11]\n",
        "\n",
        "average = sum / 31\n",
        "\n",
        "print(\"Average temperature at noon:\", average)\n",
        "\n",
        "# 2. the highest temperature during the whole month\n",
        "highest = -100.0\n",
        "\n",
        "for day in temps:\n",
        "    for temp in day:\n",
        "        if temp > highest:\n",
        "            highest = temp\n",
        "\n",
        "print(\"The highest temperature was:\", highest)\n",
        "\n",
        "# 3.count the days when the temperature at noon was at least 20 ℃\n",
        "hotDays = 0\n",
        "\n",
        "for day in temps:\n",
        "    if day[11] > 20.0:\n",
        "        hotDays += 1\n",
        "\n",
        "print(hotDays, \"days were hot.\")"
      ]
    },
    {
      "cell_type": "markdown",
      "metadata": {
        "id": "Z4v7J1ZZB4qP"
      },
      "source": [
        "#### 3. Array tiga dimensi\n",
        "\n",
        "Python tidak memiliki batasan dalam list-in-list. Ini merupakan contoh untuk array tiga dimensi.\n",
        "\n",
        "Bayangkan sebuah hotel yang besar terdiri dari tiga bangunan, 15 lantai untuk tiap  bangunannya. Pada setiap lantai terdapat 20 kamar.\n",
        "\n",
        "Langkah pertama adalah tentukan tipe data dari array yang akan dibuat. Dalam kasus ini nilai Boolean yang paling sesuai, nilai True jika kamar telah di pesan dan nilai False jika kamar kosong. Langkah kedua adalah dengan menganalisa kondisi yang diberikan.\n",
        "\n",
        "Kode dibawah akan menghasilkan array :"
      ]
    },
    {
      "cell_type": "code",
      "execution_count": 78,
      "metadata": {
        "id": "5cHdf-PNB4qP",
        "colab": {
          "base_uri": "https://localhost:8080/"
        },
        "outputId": "cca60de9-9ee6-42cb-c7b4-474d0726dce4"
      },
      "outputs": [
        {
          "output_type": "stream",
          "name": "stdout",
          "text": [
            "[[[False, False], [False, False], [False, False]], [[False, False], [False, False], [False, False]], [[False, False], [False, False], [False, False]], [[False, False], [False, False], [False, False]]]\n"
          ]
        }
      ],
      "source": [
        "rooms = [[[False for r in range(2)] for f in range(3)] for t in range(4)]\n",
        "print (rooms)"
      ]
    },
    {
      "cell_type": "markdown",
      "metadata": {
        "id": "i5Q9BRGfB4qP"
      },
      "source": [
        "Coba berikan input untuk kondisi bibawah ini :\n",
        "1. Pesan satu kamar pada gedung 2, lantai 10, kamar 14\n",
        "2. Kosongkan satu kamar pada gedung 1, lantai 5, kamar 2\n",
        "3. Periksa apakah ada kamar kosong di lantai 15"
      ]
    },
    {
      "cell_type": "code",
      "execution_count": 79,
      "metadata": {
        "id": "hFZPW_erB4qP",
        "colab": {
          "base_uri": "https://localhost:8080/"
        },
        "outputId": "5a287f32-25f6-416b-ed01-dab81afe22dc"
      },
      "outputs": [
        {
          "output_type": "stream",
          "name": "stdout",
          "text": [
            "[[[False, False, False, False, False, False, False, False, False, False, False, False, False, False, False, False, False, False, False, False], [False, False, False, False, False, False, False, False, False, False, False, False, False, False, False, False, False, False, False, False], [False, False, False, False, False, False, False, False, False, False, False, False, False, False, False, False, False, False, False, False], [False, False, False, False, False, False, False, False, False, False, False, False, False, False, False, False, False, False, False, False], [False, False, False, False, False, False, False, False, False, False, False, False, False, False, False, False, False, False, False, False], [False, False, False, False, False, False, False, False, False, False, False, False, False, False, False, False, False, False, False, False], [False, False, False, False, False, False, False, False, False, False, False, False, False, False, False, False, False, False, False, False], [False, False, False, False, False, False, False, False, False, False, False, False, False, False, False, False, False, False, False, False], [False, False, False, False, False, False, False, False, False, False, False, False, False, False, False, False, False, False, False, False], [False, False, False, False, False, False, False, False, False, False, False, False, False, False, False, False, False, False, False, False], [False, False, False, False, False, False, False, False, False, False, False, False, False, False, False, False, False, False, False, False], [False, False, False, False, False, False, False, False, False, False, False, False, False, False, False, False, False, False, False, False], [False, False, False, False, False, False, False, False, False, False, False, False, False, False, False, False, False, False, False, False], [False, False, False, False, False, False, False, False, False, False, False, False, False, False, False, False, False, False, False, False], [False, False, False, False, False, False, False, False, False, False, False, False, False, False, False, False, False, False, False, False]], [[False, False, False, False, False, False, False, False, False, False, False, False, False, False, False, False, False, False, False, False], [False, False, False, False, False, False, False, False, False, False, False, False, False, False, False, False, False, False, False, False], [False, False, False, False, False, False, False, False, False, False, False, False, False, False, False, False, False, False, False, False], [False, False, False, False, False, False, False, False, False, False, False, False, False, False, False, False, False, False, False, False], [False, False, False, False, False, False, False, False, False, False, False, False, False, False, False, False, False, False, False, False], [False, False, False, False, False, False, False, False, False, False, False, False, False, False, False, False, False, False, False, False], [False, False, False, False, False, False, False, False, False, False, False, False, False, False, False, False, False, False, False, False], [False, False, False, False, False, False, False, False, False, False, False, False, False, False, False, False, False, False, False, False], [False, False, False, False, False, False, False, False, False, False, False, False, False, False, False, False, False, False, False, False], [False, False, False, False, False, False, False, False, False, False, False, False, False, True, False, False, False, False, False, False], [False, False, False, False, False, False, False, False, False, False, False, False, False, False, False, False, False, False, False, False], [False, False, False, False, False, False, False, False, False, False, False, False, False, False, False, False, False, False, False, False], [False, False, False, False, False, False, False, False, False, False, False, False, False, False, False, False, False, False, False, False], [False, False, False, False, False, False, False, False, False, False, False, False, False, False, False, False, False, False, False, False], [False, False, False, False, False, False, False, False, False, False, False, False, False, False, False, False, False, False, False, False]], [[False, False, False, False, False, False, False, False, False, False, False, False, False, False, False, False, False, False, False, False], [False, False, False, False, False, False, False, False, False, False, False, False, False, False, False, False, False, False, False, False], [False, False, False, False, False, False, False, False, False, False, False, False, False, False, False, False, False, False, False, False], [False, False, False, False, False, False, False, False, False, False, False, False, False, False, False, False, False, False, False, False], [False, False, False, False, False, False, False, False, False, False, False, False, False, False, False, False, False, False, False, False], [False, False, False, False, False, False, False, False, False, False, False, False, False, False, False, False, False, False, False, False], [False, False, False, False, False, False, False, False, False, False, False, False, False, False, False, False, False, False, False, False], [False, False, False, False, False, False, False, False, False, False, False, False, False, False, False, False, False, False, False, False], [False, False, False, False, False, False, False, False, False, False, False, False, False, False, False, False, False, False, False, False], [False, False, False, False, False, False, False, False, False, False, False, False, False, False, False, False, False, False, False, False], [False, False, False, False, False, False, False, False, False, False, False, False, False, False, False, False, False, False, False, False], [False, False, False, False, False, False, False, False, False, False, False, False, False, False, False, False, False, False, False, False], [False, False, False, False, False, False, False, False, False, False, False, False, False, False, False, False, False, False, False, False], [False, False, False, False, False, False, False, False, False, False, False, False, False, False, False, False, False, False, False, False], [False, False, False, False, False, False, False, False, False, False, False, False, False, False, False, False, False, False, False, False]]]\n",
            "19\n"
          ]
        }
      ],
      "source": [
        "rooms = [[[False for r in range(20)] for f in range(15)] for t in range(3)]\n",
        "\n",
        "rooms[1][9][13] = True\n",
        "rooms[0][4][1] = False\n",
        "\n",
        "print(rooms)\n",
        "\n",
        "vacancy = 0\n",
        "\n",
        "for roomNumber in range(20):\n",
        "    if not rooms[2][14][roomNumber]:\n",
        "        vacancy += 1\n",
        "\n",
        "print(roomNumber)"
      ]
    }
  ],
  "metadata": {
    "kernelspec": {
      "display_name": "Python 3 (ipykernel)",
      "language": "python",
      "name": "python3"
    },
    "language_info": {
      "codemirror_mode": {
        "name": "ipython",
        "version": 3
      },
      "file_extension": ".py",
      "mimetype": "text/x-python",
      "name": "python",
      "nbconvert_exporter": "python",
      "pygments_lexer": "ipython3",
      "version": "3.9.5"
    },
    "colab": {
      "provenance": [],
      "include_colab_link": true
    }
  },
  "nbformat": 4,
  "nbformat_minor": 0
}